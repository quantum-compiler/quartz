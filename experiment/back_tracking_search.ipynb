{
 "cells": [
  {
   "cell_type": "code",
   "execution_count": 2,
   "metadata": {},
   "outputs": [],
   "source": [
    "import quartz"
   ]
  },
  {
   "cell_type": "code",
   "execution_count": 3,
   "metadata": {},
   "outputs": [],
   "source": [
    "quartz_context = quartz.QuartzContext(gate_set=['h', 'cx', 'x', 'rz', 'add'], filename='ecc_set/nam.json.ecc')\n",
    "init_graph = quartz.PyGraph.from_qasm(context=quartz_context, filename='nam_circs/barenco_tof_3.qasm')"
   ]
  },
  {
   "cell_type": "code",
   "execution_count": 4,
   "metadata": {},
   "outputs": [
    {
     "name": "stdout",
     "output_type": "stream",
     "text": [
      "[80, 82, 8668]\n",
      "[98, 100, 8668]\n",
      "[94, 210, 8668]\n",
      "[98, 100, 8668]\n",
      "[94, 210, 8668]\n",
      "[98, 100, 2617, 2637, 2665, 8668]\n",
      "[94, 210, 2019, 2023, 2769, 7026, 7027, 8668]\n",
      "[98, 100, 8320, 8321, 8322, 8323, 8324, 8325, 8356, 8357, 8358, 8359, 8360, 8361, 8368, 8369, 8370, 8371, 8372, 8373, 8668]\n",
      "[98, 100, 188, 189, 499, 501, 507, 511, 8668]\n",
      "[94, 210, 8668]\n",
      "[94, 206, 208, 210, 212, 8668]\n",
      "[96, 98, 100, 102, 8668]\n",
      "[97, 103, 8668]\n",
      "[169, 174, 8668]\n",
      "[80, 82, 8668]\n",
      "[98, 100, 8668]\n",
      "[94, 210, 8668]\n",
      "[98, 100, 8668]\n",
      "[94, 210, 8668]\n",
      "[98, 100, 2617, 2637, 2665, 8668]\n",
      "[94, 210, 2019, 2023, 2769, 7026, 7027, 8668]\n",
      "[98, 100, 8320, 8321, 8322, 8323, 8324, 8325, 8356, 8357, 8358, 8359, 8360, 8361, 8368, 8369, 8370, 8371, 8372, 8373, 8668]\n",
      "[98, 100, 188, 189, 499, 501, 507, 511, 8668]\n",
      "[8668]\n",
      "[94, 206, 208, 210, 212, 8668]\n",
      "[78, 84, 8668]\n",
      "[96, 98, 100, 102, 8668]\n",
      "[98, 100, 8668]\n",
      "[97, 103, 8668]\n",
      "[97, 103, 8668]\n",
      "[94, 210, 8668]\n",
      "[98, 100, 8668]\n",
      "[94, 210, 8668]\n",
      "[98, 100, 2617, 2637, 2665, 8668]\n",
      "[94, 210, 2019, 2023, 2769, 7026, 7027, 8668]\n",
      "[98, 100, 8320, 8321, 8322, 8323, 8324, 8325, 8356, 8357, 8358, 8359, 8360, 8361, 8368, 8369, 8370, 8371, 8372, 8373, 8668]\n",
      "[98, 100, 188, 189, 499, 501, 507, 511, 8668]\n",
      "[8668]\n",
      "[94, 206, 208, 210, 212, 8668]\n",
      "[8668]\n",
      "[96, 98, 100, 102, 8668]\n",
      "[8668]\n",
      "[169, 174, 8668]\n",
      "[80, 82, 8668]\n",
      "[98, 100, 8668]\n",
      "[94, 210, 8668]\n",
      "[98, 100, 8668]\n",
      "[94, 210, 8668]\n",
      "[98, 100, 2617, 2637, 2665, 8668]\n",
      "[94, 210, 2019, 2023, 2769, 7026, 7027, 8668]\n",
      "[98, 100, 8320, 8321, 8322, 8323, 8324, 8325, 8356, 8357, 8358, 8359, 8360, 8361, 8368, 8369, 8370, 8371, 8372, 8373, 8668]\n",
      "[98, 100, 188, 189, 499, 501, 507, 511, 8668]\n",
      "[8668]\n",
      "[94, 206, 208, 210, 212, 8668]\n",
      "[8668]\n",
      "[96, 98, 100, 102, 8668]\n",
      "[8668]\n",
      "[8668]\n"
     ]
    },
    {
     "data": {
      "text/plain": [
       "306"
      ]
     },
     "execution_count": 4,
     "metadata": {},
     "output_type": "execute_result"
    }
   ],
   "source": [
    "# available_xfer_matrix = init_graph.get_available_xfers_matrix(context=quartz_context)\n",
    "all_nodes = init_graph.all_nodes()\n",
    "cnt = 0\n",
    "for node in all_nodes:\n",
    "    l = init_graph.available_xfers(context=quartz_context, node=node)\n",
    "    print(l)\n",
    "    cnt += len(l)\n",
    "cnt"
   ]
  },
  {
   "cell_type": "code",
   "execution_count": 5,
   "metadata": {},
   "outputs": [],
   "source": [
    "from qiskit.quantum_info import Statevector\n",
    "from qiskit import QuantumCircuit\n",
    "\n",
    "def check(graph):\n",
    "    graph.to_qasm(filename='best.qasm')\n",
    "    qc_origin = QuantumCircuit.from_qasm_file('barenco_tof_3_opt_path/subst_history_39.qasm')\n",
    "    qc_optimized = QuantumCircuit.from_qasm_file('best.qasm')\n",
    "    return Statevector.from_instruction(qc_origin).equiv(Statevector.from_instruction(qc_optimized))"
   ]
  },
  {
   "cell_type": "code",
   "execution_count": 6,
   "metadata": {},
   "outputs": [],
   "source": [
    "# Optimizing with BFS\n",
    "import heapq\n",
    "from concurrent.futures import ProcessPoolExecutor\n",
    "import copy\n",
    "\n",
    "candidate_hq = []\n",
    "heapq.heappush(candidate_hq, init_graph)\n",
    "hash_set = set()\n",
    "hash_set.add(init_graph.hash())\n",
    "best_graph = init_graph\n",
    "best_gate_cnt = init_graph.gate_count\n",
    "max_gate_cnt = 64\n",
    "\n",
    "budget = 5_000_000\n",
    "\n",
    "while candidate_hq != [] and budget >= 0:\n",
    "    first_candidate = heapq.heappop(candidate_hq)\n",
    "    all_nodes = first_candidate.all_nodes()\n",
    "    \n",
    "    def ax(i):\n",
    "        node = all_nodes[i]\n",
    "        return first_candidate.available_xfers(context=quartz_context, node=node)\n",
    "    \n",
    "    with ProcessPoolExecutor(max_workers=64) as executor:\n",
    "        results = executor.map(ax, list(range(len(all_nodes))), chunksize=2)\n",
    "        appliable_xfers_nodes = []\n",
    "        for r in results:\n",
    "            appliable_xfers_nodes.append(r)\n",
    "        \n",
    "    for i in range(len(all_nodes)):\n",
    "        node = all_nodes[i]\n",
    "        appliable_xfers = appliable_xfers_nodes[i]\n",
    "        for xfer in appliable_xfers:\n",
    "            new_graph = first_candidate.apply_xfer(xfer=quartz_context.get_xfer_from_id(id=xfer), node=node)\n",
    "            if not check(new_graph):\n",
    "                print('Error')\n",
    "            new_hash = new_graph.hash()\n",
    "            if new_hash not in hash_set:\n",
    "                hash_set.add(new_hash)\n",
    "                new_cnt = new_graph.gate_count\n",
    "                if new_cnt <= max_gate_cnt:\n",
    "                    heapq.heappush(candidate_hq, new_graph)\n",
    "                if new_cnt < best_gate_cnt:\n",
    "                    best_graph = new_graph\n",
    "                    best_gate_cnt = new_cnt\n",
    "                budget -= 1\n",
    "                if budget % 10_000 == 0:\n",
    "                    print(f'{budget}: minimum gate count is {best_gate_cnt}, correctness: {check(best_graph)}')\n"
   ]
  }
 ],
 "metadata": {
  "kernelspec": {
   "display_name": "Python 3.9.12 ('quantum')",
   "language": "python",
   "name": "python3"
  },
  "language_info": {
   "codemirror_mode": {
    "name": "ipython",
    "version": 3
   },
   "file_extension": ".py",
   "mimetype": "text/x-python",
   "name": "python",
   "nbconvert_exporter": "python",
   "pygments_lexer": "ipython3",
   "version": "3.9.12"
  },
  "orig_nbformat": 4,
  "vscode": {
   "interpreter": {
    "hash": "96b51c792a6989d4839d314c065544fba67e314d7b530d0571cf3625bc1ceb7e"
   }
  }
 },
 "nbformat": 4,
 "nbformat_minor": 2
}
