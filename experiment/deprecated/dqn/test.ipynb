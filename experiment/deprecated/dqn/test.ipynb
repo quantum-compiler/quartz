{
 "cells": [
  {
   "cell_type": "code",
   "execution_count": 5,
   "metadata": {},
   "outputs": [],
   "source": [
    "import quartz\n",
    "import torch\n",
    "import math\n",
    "import dgl\n",
    "import time\n",
    "from icecream import ic"
   ]
  },
  {
   "cell_type": "code",
   "execution_count": 2,
   "metadata": {},
   "outputs": [
    {
     "name": "stderr",
     "output_type": "stream",
     "text": [
      "ic| num_xfers: 3904\n"
     ]
    },
    {
     "data": {
      "text/plain": [
       "3904"
      ]
     },
     "execution_count": 2,
     "metadata": {},
     "output_type": "execute_result"
    }
   ],
   "source": [
    "gate_set = ['h', 'cx', 't', 'tdg']\n",
    "ecc_file = 'bfs_verified_simplified.json'\n",
    "no_increase = False\n",
    "include_nop = True\n",
    "quartz_context = quartz.QuartzContext(\n",
    "    gate_set=gate_set,\n",
    "    filename=ecc_file,\n",
    "    # TODO  we need to include xfers that lead to gate increase when training?\n",
    "    # we may exclude them when generating the dataset for pre-training\n",
    "    # TODO  to make the task easier, we exclude those xfers currently\n",
    "    no_increase=no_increase,\n",
    "    include_nop=include_nop,\n",
    ")\n",
    "num_xfers = quartz_context.num_xfers\n",
    "parser = quartz.PyQASMParser(context=quartz_context)\n",
    "ic(num_xfers)\n"
   ]
  },
  {
   "cell_type": "code",
   "execution_count": 3,
   "metadata": {},
   "outputs": [
    {
     "name": "stdout",
     "output_type": "stream",
     "text": [
      "3.902898 ms\n",
      "-3680862461118220112\n"
     ]
    }
   ],
   "source": [
    "qasm_str = 'OPENQASM 2.0;\\ninclude \"qelib1.inc\";\\nqreg q[5];\\nh q[4];\\ncx q[3],q[4];\\ntdg q[4];\\ncx q[2],q[4];\\nt q[4];\\ncx q[3],q[4];\\ntdg q[4];\\ncx q[3],q[2];\\ntdg q[2];\\ncx q[3],q[2];\\nt q[3];\\ncx q[2],q[4];\\nh q[3];\\nt q[4];\\ncx q[1],q[3];\\ntdg q[3];\\ncx q[0],q[3];\\nt q[3];\\ncx q[1],q[3];\\ntdg q[3];\\ncx q[0],q[3];\\ncx q[0],q[1];\\nt q[3];\\ntdg q[1];\\nh q[3];\\ncx q[0],q[1];\\ncx q[3],q[4];\\nt q[0];\\nt q[1];\\nt q[4];\\ncx q[2],q[4];\\ntdg q[4];\\ncx q[3],q[4];\\nt q[4];\\ncx q[2],q[4];\\ntdg q[4];\\ncx q[2],q[3];\\nh q[4];\\nt q[3];\\ncx q[2],q[3];\\ntdg q[3];\\nh q[3];\\ncx q[1],q[3];\\nt q[3];\\ncx q[0],q[3];\\ntdg q[3];\\ncx q[1],q[3];\\nt q[3];\\ncx q[0],q[3];\\ncx q[0],q[1];\\ntdg q[3];\\nt q[1];\\nh q[3];\\ncx q[0],q[1];\\ntdg q[0];\\ntdg q[1];\\n'\n",
    "s_time = time.time_ns()\n",
    "dag = parser.load_qasm_str(qasm_str)\n",
    "graph = quartz.PyGraph(context=quartz_context, dag=dag)\n",
    "e_time = time.time_ns()\n",
    "print(f'{(e_time - s_time) / 1e6} ms')\n",
    "print(hash(graph))"
   ]
  },
  {
   "cell_type": "code",
   "execution_count": 4,
   "metadata": {},
   "outputs": [
    {
     "name": "stdout",
     "output_type": "stream",
     "text": [
      "1.175393 ms\n",
      "-3680862461118220112\n"
     ]
    }
   ],
   "source": [
    "s_time = time.time_ns()\n",
    "graph2 = quartz.PyGraph.from_qasm_str(context=quartz_context, qasm_str=qasm_str)\n",
    "e_time = time.time_ns()\n",
    "print(f'{(e_time - s_time) / 1e6} ms')\n",
    "print(hash(graph2))"
   ]
  },
  {
   "cell_type": "code",
   "execution_count": 6,
   "metadata": {},
   "outputs": [
    {
     "name": "stdout",
     "output_type": "stream",
     "text": [
      "True\n",
      "True\n",
      "True\n",
      "True\n",
      "True\n"
     ]
    },
    {
     "ename": "KeyboardInterrupt",
     "evalue": "",
     "output_type": "error",
     "traceback": [
      "\u001b[0;31m---------------------------------------------------------------------------\u001b[0m",
      "\u001b[0;31mKeyboardInterrupt\u001b[0m                         Traceback (most recent call last)",
      "\u001b[1;32m/home/jinjun/quartz/experiment/dqn/test.ipynb Cell 5'\u001b[0m in \u001b[0;36m<cell line: 1>\u001b[0;34m()\u001b[0m\n\u001b[1;32m      <a href='vscode-notebook-cell://ssh-remote%2Bec2-44-200-22-73.compute-1.amazonaws.com/home/jinjun/quartz/experiment/dqn/test.ipynb#ch0000009vscode-remote?line=1'>2</a>\u001b[0m avxfers \u001b[39m=\u001b[39m []\n\u001b[1;32m      <a href='vscode-notebook-cell://ssh-remote%2Bec2-44-200-22-73.compute-1.amazonaws.com/home/jinjun/quartz/experiment/dqn/test.ipynb#ch0000009vscode-remote?line=2'>3</a>\u001b[0m \u001b[39mfor\u001b[39;00m i \u001b[39min\u001b[39;00m \u001b[39mrange\u001b[39m(graph\u001b[39m.\u001b[39mnum_nodes):\n\u001b[1;32m      <a href='vscode-notebook-cell://ssh-remote%2Bec2-44-200-22-73.compute-1.amazonaws.com/home/jinjun/quartz/experiment/dqn/test.ipynb#ch0000009vscode-remote?line=3'>4</a>\u001b[0m     avxfers\u001b[39m.\u001b[39mappend(\n\u001b[0;32m----> <a href='vscode-notebook-cell://ssh-remote%2Bec2-44-200-22-73.compute-1.amazonaws.com/home/jinjun/quartz/experiment/dqn/test.ipynb#ch0000009vscode-remote?line=4'>5</a>\u001b[0m         graph\u001b[39m.\u001b[39;49mavailable_xfers(\n\u001b[1;32m      <a href='vscode-notebook-cell://ssh-remote%2Bec2-44-200-22-73.compute-1.amazonaws.com/home/jinjun/quartz/experiment/dqn/test.ipynb#ch0000009vscode-remote?line=5'>6</a>\u001b[0m             context\u001b[39m=\u001b[39;49mquartz_context,\n\u001b[1;32m      <a href='vscode-notebook-cell://ssh-remote%2Bec2-44-200-22-73.compute-1.amazonaws.com/home/jinjun/quartz/experiment/dqn/test.ipynb#ch0000009vscode-remote?line=6'>7</a>\u001b[0m             node\u001b[39m=\u001b[39;49mgraph\u001b[39m.\u001b[39;49mget_node_from_id(\u001b[39mid\u001b[39;49m\u001b[39m=\u001b[39;49mi)\n\u001b[1;32m      <a href='vscode-notebook-cell://ssh-remote%2Bec2-44-200-22-73.compute-1.amazonaws.com/home/jinjun/quartz/experiment/dqn/test.ipynb#ch0000009vscode-remote?line=7'>8</a>\u001b[0m         )\n\u001b[1;32m      <a href='vscode-notebook-cell://ssh-remote%2Bec2-44-200-22-73.compute-1.amazonaws.com/home/jinjun/quartz/experiment/dqn/test.ipynb#ch0000009vscode-remote?line=8'>9</a>\u001b[0m     )\n\u001b[1;32m     <a href='vscode-notebook-cell://ssh-remote%2Bec2-44-200-22-73.compute-1.amazonaws.com/home/jinjun/quartz/experiment/dqn/test.ipynb#ch0000009vscode-remote?line=9'>10</a>\u001b[0m avxfers2 \u001b[39m=\u001b[39m []\n\u001b[1;32m     <a href='vscode-notebook-cell://ssh-remote%2Bec2-44-200-22-73.compute-1.amazonaws.com/home/jinjun/quartz/experiment/dqn/test.ipynb#ch0000009vscode-remote?line=10'>11</a>\u001b[0m \u001b[39mfor\u001b[39;00m i \u001b[39min\u001b[39;00m \u001b[39mrange\u001b[39m(graph2\u001b[39m.\u001b[39mnum_nodes):\n",
      "\u001b[0;31mKeyboardInterrupt\u001b[0m: "
     ]
    }
   ],
   "source": [
    "while True:\n",
    "    avxfers = []\n",
    "    for i in range(graph.num_nodes):\n",
    "        avxfers.append(\n",
    "            graph.available_xfers(\n",
    "                context=quartz_context,\n",
    "                node=graph.get_node_from_id(id=i)\n",
    "            )\n",
    "        )\n",
    "    avxfers2 = []\n",
    "    for i in range(graph2.num_nodes):\n",
    "        avxfers2.append(\n",
    "            graph2.available_xfers(\n",
    "                context=quartz_context,\n",
    "                node=graph2.get_node_from_id(id=i)\n",
    "            )\n",
    "        )\n",
    "    print(avxfers == avxfers2)"
   ]
  },
  {
   "cell_type": "code",
   "execution_count": null,
   "metadata": {},
   "outputs": [],
   "source": [
    "int(torch.multinomial(torch.Tensor([1,2,3,4]), 1))"
   ]
  },
  {
   "cell_type": "code",
   "execution_count": null,
   "metadata": {},
   "outputs": [],
   "source": [
    "next_graph, next_nodes = \\\n",
    "    graph.apply_xfer_with_local_state_tracking(\n",
    "        xfer=quartz_context.get_xfer_from_id(id=action.xfer),\n",
    "        node=graph.get_node_from_id(id=action.node)\n",
    "    )"
   ]
  },
  {
   "cell_type": "code",
   "execution_count": null,
   "metadata": {},
   "outputs": [],
   "source": [
    "avxfers = []\n",
    "for i in range(graph.num_nodes):\n",
    "    avxfers.append(\n",
    "        graph.available_xfers(\n",
    "            context=quartz_context,\n",
    "            node=graph.get_node_from_id(id=i)\n",
    "        )\n",
    "    )\n",
    "avxfers"
   ]
  },
  {
   "cell_type": "code",
   "execution_count": null,
   "metadata": {},
   "outputs": [],
   "source": [
    "qasm2 = graph.to_qasm_str()\n",
    "g2 = quartz.PyGraph(context=quartz_context, dag=parser.load_qasm_str(qasm2))\n",
    "avxfers2 = []\n",
    "for i in range(g2.num_nodes):\n",
    "    avxfers2.append(\n",
    "        g2.available_xfers(\n",
    "            context=quartz_context,\n",
    "            node=g2.get_node_from_id(id=i)\n",
    "        )\n",
    "    )\n",
    "avxfers2 == avxfers"
   ]
  },
  {
   "cell_type": "code",
   "execution_count": 13,
   "metadata": {},
   "outputs": [
    {
     "name": "stderr",
     "output_type": "stream",
     "text": [
      "ic| temp: 0.18418425871932848\n"
     ]
    },
    {
     "data": {
      "text/plain": [
       "0.18418425871932848"
      ]
     },
     "execution_count": 13,
     "metadata": {},
     "output_type": "execute_result"
    }
   ],
   "source": [
    "N = 58\n",
    "hr = 0.8\n",
    "temp = 1 / (math.log(hr * (N - 1) / (1 - hr)))\n",
    "ic(temp)"
   ]
  },
  {
   "cell_type": "code",
   "execution_count": 40,
   "metadata": {},
   "outputs": [
    {
     "name": "stdout",
     "output_type": "stream",
     "text": [
      "tensor([2.3678e-01, 5.5466e-01, 8.6870e-01, 3.1310e-01, 3.9806e-01, 1.6154e-01,\n",
      "        1.1253e-01, 2.5345e-01, 8.5483e-01, 8.7368e-01, 1.0489e+00, 9.9296e-01,\n",
      "        2.2252e-01, 9.3534e-01, 4.4354e-01, 6.7339e-01, 8.9097e-01, 8.1088e-01,\n",
      "        6.7483e-01, 8.5591e-01, 1.2983e+00, 5.4039e-01, 1.4504e-01, 8.5817e-01,\n",
      "        7.3451e-01, 3.4302e-02, 3.7450e-01, 2.0502e-01, 5.2891e-01, 1.4889e-01,\n",
      "        1.3780e-03, 6.5697e-01, 2.5934e-01, 2.3895e-01, 9.2069e-01, 8.2578e-01,\n",
      "        9.1897e-02, 2.1039e-01, 1.2449e-03, 2.5067e-02, 1.6273e-01, 6.8860e-01,\n",
      "        1.3174e-01, 3.7473e-01, 8.4814e-01, 8.6089e-01, 7.9354e-01, 4.7550e-01,\n",
      "        8.8124e-02, 6.0274e-02, 3.2602e-01, 1.5500e-02, 6.6569e-01, 3.1290e-01,\n",
      "        1.3094e-02, 5.1426e-01, 2.0129e-01, 8.0870e-01])\n"
     ]
    }
   ],
   "source": [
    "nv = torch.rand(58)\n",
    "# ic(nv)\n",
    "nv[10] += 0.8\n",
    "nv[20] += 1\n",
    "print(nv)"
   ]
  },
  {
   "cell_type": "code",
   "execution_count": 42,
   "metadata": {},
   "outputs": [
    {
     "name": "stdout",
     "output_type": "stream",
     "text": [
      "tensor([0.0128, 0.0176, 0.0241, 0.0138, 0.0150, 0.0119, 0.0113, 0.0130, 0.0238,\n",
      "        0.0242, 0.0288, 0.0273, 0.0126, 0.0257, 0.0157, 0.0198, 0.0246, 0.0227,\n",
      "        0.0198, 0.0238, 0.0370, 0.0173, 0.0117, 0.0238, 0.0211, 0.0105, 0.0147,\n",
      "        0.0124, 0.0171, 0.0117, 0.0101, 0.0195, 0.0131, 0.0128, 0.0254, 0.0231,\n",
      "        0.0111, 0.0125, 0.0101, 0.0104, 0.0119, 0.0201, 0.0115, 0.0147, 0.0236,\n",
      "        0.0239, 0.0223, 0.0163, 0.0110, 0.0107, 0.0140, 0.0103, 0.0197, 0.0138,\n",
      "        0.0102, 0.0169, 0.0124, 0.0227]) tensor(0.0288) tensor(0.0370)\n"
     ]
    }
   ],
   "source": [
    "smnv = torch.softmax(nv, dim=0)\n",
    "print(smnv, smnv[10], smnv[20])"
   ]
  },
  {
   "cell_type": "code",
   "execution_count": 43,
   "metadata": {},
   "outputs": [
    {
     "data": {
      "text/plain": [
       "[tensor([52]),\n",
       " tensor([53]),\n",
       " tensor([42]),\n",
       " tensor([5]),\n",
       " tensor([46]),\n",
       " tensor([54]),\n",
       " tensor([20]),\n",
       " tensor([11]),\n",
       " tensor([46]),\n",
       " tensor([7])]"
      ]
     },
     "execution_count": 43,
     "metadata": {},
     "output_type": "execute_result"
    }
   ],
   "source": [
    "[torch.multinomial(smnv, 1) for _ in range(10)]"
   ]
  },
  {
   "cell_type": "code",
   "execution_count": 44,
   "metadata": {},
   "outputs": [
    {
     "name": "stdout",
     "output_type": "stream",
     "text": [
      "tensor([1.0013e-03, 5.6245e-03, 3.0944e-02, 1.5153e-03, 2.4035e-03, 6.6546e-04,\n",
      "        5.1000e-04, 1.0961e-03, 2.8699e-02, 3.1791e-02, 8.2317e-02, 6.0752e-02,\n",
      "        9.2664e-04, 4.4433e-02, 3.0766e-03, 1.0716e-02, 3.4920e-02, 2.2607e-02,\n",
      "        1.0800e-02, 2.8867e-02, 3.1878e-01, 5.2052e-03, 6.0845e-04, 2.9224e-02,\n",
      "        1.4933e-02, 3.3351e-04, 2.1149e-03, 8.4267e-04, 4.8908e-03, 6.2132e-04,\n",
      "        2.7892e-04, 9.8023e-03, 1.1317e-03, 1.0131e-03, 4.1035e-02, 2.4511e-02,\n",
      "        4.5595e-04, 8.6760e-04, 2.7872e-04, 3.1720e-04, 6.6978e-04, 1.1639e-02,\n",
      "        5.6606e-04, 2.1174e-03, 2.7675e-02, 2.9660e-02, 2.0576e-02, 3.6596e-03,\n",
      "        4.4671e-04, 3.8402e-04, 1.6254e-03, 3.0115e-04, 1.0277e-02, 1.5137e-03,\n",
      "        2.9724e-04, 4.5166e-03, 8.2578e-04, 2.2340e-02]) tensor(0.0823) tensor(0.3188)\n"
     ]
    }
   ],
   "source": [
    "tmpsmnv = torch.softmax(nv / temp, dim=0)\n",
    "print(tmpsmnv, tmpsmnv[10], tmpsmnv[20])"
   ]
  },
  {
   "cell_type": "code",
   "execution_count": 45,
   "metadata": {},
   "outputs": [
    {
     "data": {
      "text/plain": [
       "[tensor([20]),\n",
       " tensor([20]),\n",
       " tensor([35]),\n",
       " tensor([20]),\n",
       " tensor([10]),\n",
       " tensor([20]),\n",
       " tensor([34]),\n",
       " tensor([20]),\n",
       " tensor([29]),\n",
       " tensor([10])]"
      ]
     },
     "execution_count": 45,
     "metadata": {},
     "output_type": "execute_result"
    }
   ],
   "source": [
    "[torch.multinomial(tmpsmnv, 1) for _ in range(10)]"
   ]
  },
  {
   "cell_type": "code",
   "execution_count": 47,
   "metadata": {},
   "outputs": [
    {
     "data": {
      "text/plain": [
       "tensor([0.0056])"
      ]
     },
     "execution_count": 47,
     "metadata": {},
     "output_type": "execute_result"
    }
   ],
   "source": [
    "tmpsmnv[torch.BoolTensor([False, True] + [False for _ in range(56)])]"
   ]
  },
  {
   "cell_type": "code",
   "execution_count": 9,
   "metadata": {},
   "outputs": [
    {
     "name": "stdout",
     "output_type": "stream",
     "text": [
      "tensor([[1.]]) torch.Size([1, 1])\n",
      "tensor([[0.1768, 0.2786, 0.2713, 0.6060, 0.6584],\n",
      "        [0.6335, 0.2532, 0.1173, 0.9449, 0.6471],\n",
      "        [0.5164, 0.2086, 0.8328, 0.6933, 0.7358]])\n",
      "tensor([[0.1768, 0.2786, 0.2713, 0.6060, 0.6584],\n",
      "        [0.6335, 0.2532, 0.1173, 0.9449, 0.6471],\n",
      "        [0.5164, 0.2086, 0.8328, 0.6933, 0.7358]])\n"
     ]
    }
   ],
   "source": [
    "import torch\n",
    "x = torch.rand(3, 5)\n",
    "print(torch.Tensor([1]).unsqueeze(1), torch.Tensor([1]).unsqueeze(1).shape)\n",
    "print(x)\n",
    "print(x / torch.Tensor([1]).unsqueeze(1))"
   ]
  },
  {
   "cell_type": "code",
   "execution_count": 5,
   "metadata": {},
   "outputs": [
    {
     "name": "stdout",
     "output_type": "stream",
     "text": [
      "[Test(a=0, b=0.0), Test(a=1, b=0.5), Test(a=2, b=1.0), Test(a=3, b=1.5), Test(a=4, b=2.0)]\n",
      "Test(a=[0, 1, 2, 3, 4], b=[0.0, 0.5, 1.0, 1.5, 2.0])\n"
     ]
    }
   ],
   "source": [
    "from dataclasses import dataclass, fields\n",
    "from typing import Callable, Iterable, Iterator, Optional, Tuple, List, Any, Sequence\n",
    "\n",
    "@dataclass\n",
    "class Test:\n",
    "    a: int\n",
    "    b: float\n",
    "    \n",
    "    def __iter__(self) -> Iterator:\n",
    "        return iter([\n",
    "            getattr(self, field.name)\n",
    "            for field in fields(self)\n",
    "        ])\n",
    "    \n",
    "\n",
    "ts = [Test(i, i/2) for i in range(5)]\n",
    "print(ts)\n",
    "\n",
    "tl = Test(*map(list, zip(*ts)))\n",
    "print(tl)"
   ]
  },
  {
   "cell_type": "code",
   "execution_count": 6,
   "metadata": {},
   "outputs": [],
   "source": [
    "import pickle\n",
    "import torch\n",
    "\n",
    "d = (58, {'key': 'value'})\n",
    "s = pickle.dumps(d)\n",
    "x = torch.frombuffer(s, dtype=torch.int8)\n",
    "with open('tmp.tmp', 'wb') as f:\n",
    "    pickle.dump(d, f)"
   ]
  }
 ],
 "metadata": {
  "interpreter": {
   "hash": "727000391658140de014f09a2cefd280fa828086dc8cb8d0493b0ec43fb35302"
  },
  "kernelspec": {
   "display_name": "Python 3.10.4 ('quartz')",
   "language": "python",
   "name": "python3"
  },
  "language_info": {
   "codemirror_mode": {
    "name": "ipython",
    "version": 3
   },
   "file_extension": ".py",
   "mimetype": "text/x-python",
   "name": "python",
   "nbconvert_exporter": "python",
   "pygments_lexer": "ipython3",
   "version": "3.10.4"
  },
  "orig_nbformat": 4
 },
 "nbformat": 4,
 "nbformat_minor": 2
}
