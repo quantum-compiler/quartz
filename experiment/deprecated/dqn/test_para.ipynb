{
 "cells": [
  {
   "cell_type": "code",
   "execution_count": 1,
   "metadata": {},
   "outputs": [
    {
     "name": "stderr",
     "output_type": "stream",
     "text": [
      "/home/jinjun/miniconda3/envs/quartz/lib/python3.10/site-packages/tqdm/auto.py:22: TqdmWarning: IProgress not found. Please update jupyter and ipywidgets. See https://ipywidgets.readthedocs.io/en/stable/user_install.html\n",
      "  from .autonotebook import tqdm as notebook_tqdm\n"
     ]
    }
   ],
   "source": [
    "import quartz"
   ]
  },
  {
   "cell_type": "code",
   "execution_count": 2,
   "metadata": {},
   "outputs": [
    {
     "data": {
      "text/plain": [
       "3904"
      ]
     },
     "execution_count": 2,
     "metadata": {},
     "output_type": "execute_result"
    }
   ],
   "source": [
    "\n",
    "gate_set = ['h', 'cx', 't', 'tdg']\n",
    "ecc_file = 'bfs_verified_simplified.json'\n",
    "no_increase = False\n",
    "include_nop = True\n",
    "quartz_context = quartz.QuartzContext(\n",
    "    gate_set=gate_set,\n",
    "    filename=ecc_file,\n",
    "    no_increase=no_increase,\n",
    "    include_nop=include_nop,\n",
    ")\n",
    "num_xfers = quartz_context.num_xfers\n",
    "parser = quartz.PyQASMParser(context=quartz_context)\n",
    "num_xfers"
   ]
  },
  {
   "cell_type": "code",
   "execution_count": 3,
   "metadata": {},
   "outputs": [
    {
     "data": {
      "text/plain": [
       "'OPENQASM 2.0;\\ninclude \"qelib1.inc\";\\nqreg q[5];\\nh q[4];\\ncx q[3],q[4];\\ntdg q[4];\\ncx q[2],q[4];\\nt q[4];\\ncx q[3],q[4];\\ntdg q[4];\\ncx q[2],q[4];\\ncx q[2],q[3];\\nt q[4];\\ntdg q[3];\\ncx q[2],q[3];\\nt q[2];\\nt q[3];\\nh q[3];\\ncx q[1],q[3];\\ntdg q[3];\\ncx q[0],q[3];\\nt q[3];\\ncx q[1],q[3];\\ntdg q[3];\\ncx q[0],q[3];\\ncx q[0],q[1];\\nt q[3];\\ntdg q[1];\\nh q[3];\\ncx q[0],q[1];\\ncx q[3],q[4];\\nt q[0];\\nt q[1];\\nt q[4];\\ncx q[2],q[4];\\ntdg q[4];\\ncx q[3],q[4];\\nt q[4];\\ncx q[2],q[4];\\ncx q[2],q[3];\\ntdg q[4];\\nt q[3];\\nh q[4];\\ncx q[2],q[3];\\ntdg q[2];\\ntdg q[3];\\nh q[3];\\ncx q[1],q[3];\\nt q[3];\\ncx q[0],q[3];\\ntdg q[3];\\ncx q[1],q[3];\\nt q[3];\\ncx q[0],q[3];\\ncx q[0],q[1];\\ntdg q[3];\\nt q[1];\\nh q[3];\\ncx q[0],q[1];\\ntdg q[0];\\ntdg q[1];\\n\\n'"
      ]
     },
     "execution_count": 3,
     "metadata": {},
     "output_type": "execute_result"
    }
   ],
   "source": [
    "with open('outputs/naive/out_graphs/1/0_58_0_0_s_0.000_0.000.qasm') as f:\n",
    "    qasm_str = f.read()\n",
    "qasm_str"
   ]
  },
  {
   "cell_type": "code",
   "execution_count": 4,
   "metadata": {},
   "outputs": [
    {
     "name": "stdout",
     "output_type": "stream",
     "text": [
      "Unknown gate: \n"
     ]
    }
   ],
   "source": [
    "dag = parser.load_qasm_str(qasm_str)\n",
    "graph = quartz.PyGraph(context=quartz_context, dag=dag)"
   ]
  },
  {
   "cell_type": "code",
   "execution_count": 5,
   "metadata": {},
   "outputs": [
    {
     "name": "stdout",
     "output_type": "stream",
     "text": [
      "duration: 1422.786023 ms\n",
      "duration per node: 24.530793499999998 ms\n"
     ]
    }
   ],
   "source": [
    "import time\n",
    "s_time = time.time_ns()\n",
    "avxfers_ref = []\n",
    "for i in range(graph.num_nodes):\n",
    "    avxfers_ref.append(\n",
    "        graph.available_xfers(\n",
    "            context=quartz_context,\n",
    "            node=graph.get_node_from_id(id=i)\n",
    "        )\n",
    "    )\n",
    "avxfers_ref\n",
    "e_time = time.time_ns()\n",
    "print(f'duration: { (e_time - s_time) / 1e6 } ms')\n",
    "print(f'duration per node: { (e_time - s_time) / 1e6 / graph.num_nodes } ms')"
   ]
  },
  {
   "cell_type": "code",
   "execution_count": 55,
   "metadata": {},
   "outputs": [
    {
     "name": "stdout",
     "output_type": "stream",
     "text": [
      "duration: 214.699639\n",
      "succeed at 0\n",
      "duration: 263.02931\n",
      "succeed at 1\n"
     ]
    },
    {
     "name": "stderr",
     "output_type": "stream",
     "text": [
      "ic| avxfers_ref[i]: [438,\n",
      "                     482,\n",
      "                     483,\n",
      "                     484,\n",
      "                     485,\n",
      "                     486,\n",
      "                     487,\n",
      "                     1245,\n",
      "                     1336,\n",
      "                     1403,\n",
      "                     1404,\n",
      "                     1405,\n",
      "                     1406,\n",
      "                     1407,\n",
      "                     1408,\n",
      "                     1665,\n",
      "                     1666,\n",
      "                     1667,\n",
      "                     1668,\n",
      "                     1669,\n",
      "                     1670,\n",
      "                     3649,\n",
      "                     3775,\n",
      "                     3903]\n",
      "ic| avxfers_para[i]: [438,\n",
      "                      482,\n",
      "                      483,\n",
      "                      484,\n",
      "                      485,\n",
      "                      487,\n",
      "                      1245,\n",
      "                      1336,\n",
      "                      1403,\n",
      "                      1404,\n",
      "                      1405,\n",
      "                      1406,\n",
      "                      1408,\n",
      "                      1665,\n",
      "                      1666,\n",
      "                      1667,\n",
      "                      1668,\n",
      "                      1669,\n",
      "                      1670,\n",
      "                      3649,\n",
      "                      3775,\n",
      "                      3903]\n"
     ]
    },
    {
     "name": "stdout",
     "output_type": "stream",
     "text": [
      "duration: 222.876529\n",
      "diff at 7\n"
     ]
    },
    {
     "ename": "AssertionError",
     "evalue": "",
     "output_type": "error",
     "traceback": [
      "\u001b[0;31m---------------------------------------------------------------------------\u001b[0m",
      "\u001b[0;31mAssertionError\u001b[0m                            Traceback (most recent call last)",
      "\u001b[1;32m/home/jinjun/quartz/experiment/dqn/test_para.ipynb Cell 6'\u001b[0m in \u001b[0;36m<cell line: 3>\u001b[0;34m()\u001b[0m\n\u001b[1;32m     <a href='vscode-notebook-cell://ssh-remote%2Bec2-44-200-22-73.compute-1.amazonaws.com/home/jinjun/quartz/experiment/dqn/test_para.ipynb#ch0000005vscode-remote?line=19'>20</a>\u001b[0m         ic(avxfers_ref[i])\n\u001b[1;32m     <a href='vscode-notebook-cell://ssh-remote%2Bec2-44-200-22-73.compute-1.amazonaws.com/home/jinjun/quartz/experiment/dqn/test_para.ipynb#ch0000005vscode-remote?line=20'>21</a>\u001b[0m         ic(avxfers_para[i])\n\u001b[0;32m---> <a href='vscode-notebook-cell://ssh-remote%2Bec2-44-200-22-73.compute-1.amazonaws.com/home/jinjun/quartz/experiment/dqn/test_para.ipynb#ch0000005vscode-remote?line=21'>22</a>\u001b[0m         \u001b[39massert\u001b[39;00m \u001b[39mFalse\u001b[39;00m\n\u001b[1;32m     <a href='vscode-notebook-cell://ssh-remote%2Bec2-44-200-22-73.compute-1.amazonaws.com/home/jinjun/quartz/experiment/dqn/test_para.ipynb#ch0000005vscode-remote?line=22'>23</a>\u001b[0m \u001b[39mprint\u001b[39m(\u001b[39mf\u001b[39m\u001b[39m'\u001b[39m\u001b[39msucceed at \u001b[39m\u001b[39m{\u001b[39;00mt\u001b[39m}\u001b[39;00m\u001b[39m'\u001b[39m)\n",
      "\u001b[0;31mAssertionError\u001b[0m: "
     ]
    }
   ],
   "source": [
    "import os\n",
    "os.environ['OMP_SCHEDULE'] = 'dynamic'\n",
    "for t in range(1000):\n",
    "    s_time = time.time_ns()\n",
    "    avxfers_para = []\n",
    "    for i in range(graph.num_nodes):\n",
    "        avxfers_para.append(\n",
    "            graph.available_xfers_parallel(\n",
    "                context=quartz_context,\n",
    "                node=graph.get_node_from_id(id=i)\n",
    "            )\n",
    "        )\n",
    "    avxfers_para\n",
    "    e_time = time.time_ns()\n",
    "    print(f'duration: { (e_time - s_time) / 1e6 }')\n",
    "    assert len(avxfers_para) == len(avxfers_ref)\n",
    "    for i in range(len(avxfers_para)):\n",
    "        if avxfers_ref[i] != avxfers_para[i]:\n",
    "            print(f'diff at {i}')\n",
    "            ic(avxfers_ref[i])\n",
    "            ic(avxfers_para[i])\n",
    "            assert False\n",
    "    print(f'succeed at {t}')"
   ]
  },
  {
   "cell_type": "code",
   "execution_count": 20,
   "metadata": {},
   "outputs": [],
   "source": [
    "from icecream import ic\n",
    "assert len(avxfers_para) == len(avxfers_ref)\n",
    "for i in range(len(avxfers_para)):\n",
    "    if avxfers_ref[i] != avxfers_para[i]:\n",
    "        print(f'diff at {i}')\n",
    "        ic(avxfers_ref[i])\n",
    "        ic(avxfers_para[i])\n",
    "        assert False"
   ]
  },
  {
   "cell_type": "code",
   "execution_count": 47,
   "metadata": {},
   "outputs": [
    {
     "name": "stdout",
     "output_type": "stream",
     "text": [
      "[469, 470, 1275, 1276, 1479, 1480, 3444]\n",
      "49.418834\n",
      "[469, 470, 1275, 1276, 1479, 1480, 3444]\n",
      "3.950958\n"
     ]
    }
   ],
   "source": [
    "t_start = time.time_ns()\n",
    "x1 = graph.available_xfers(\n",
    "    context=quartz_context,\n",
    "    node=graph.get_node_from_id(id=7)\n",
    ")\n",
    "t_end = time.time_ns()\n",
    "print(x1)\n",
    "print(f'{(t_end - t_start) / 1e6}')\n",
    "\n",
    "t_start = time.time_ns()\n",
    "x2 = graph.available_xfers_parallel(\n",
    "    context=quartz_context,\n",
    "    node=graph.get_node_from_id(id=7)\n",
    ")\n",
    "t_end = time.time_ns()\n",
    "print(x2)\n",
    "print(f'{(t_end - t_start) / 1e6}')"
   ]
  }
 ],
 "metadata": {
  "interpreter": {
   "hash": "727000391658140de014f09a2cefd280fa828086dc8cb8d0493b0ec43fb35302"
  },
  "kernelspec": {
   "display_name": "Python 3.10.4 ('quartz')",
   "language": "python",
   "name": "python3"
  },
  "language_info": {
   "codemirror_mode": {
    "name": "ipython",
    "version": 3
   },
   "file_extension": ".py",
   "mimetype": "text/x-python",
   "name": "python",
   "nbconvert_exporter": "python",
   "pygments_lexer": "ipython3",
   "version": "3.10.4"
  },
  "orig_nbformat": 4
 },
 "nbformat": 4,
 "nbformat_minor": 2
}
