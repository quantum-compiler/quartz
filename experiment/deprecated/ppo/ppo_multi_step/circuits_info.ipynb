{
 "cells": [
  {
   "cell_type": "code",
   "execution_count": 2,
   "metadata": {},
   "outputs": [],
   "source": [
    "import json"
   ]
  },
  {
   "cell_type": "code",
   "execution_count": 3,
   "metadata": {},
   "outputs": [],
   "source": [
    "circuits_info = {}\n",
    "circuits_info['barenco_tof_3'] = {}\n",
    "circuits_info['barenco_tof_3']['original'] = 58\n",
    "circuits_info['barenco_tof_3']['best_possible'] = 38\n",
    "\n",
    "circuits_info['mod5_4'] = {}\n",
    "circuits_info['mod5_4']['original'] = 63\n",
    "circuits_info['mod5_4']['best_possible'] = 37\n",
    "\n",
    "with open('circ_info.json', 'w') as f:\n",
    "    json.dump(circuits_info, f)"
   ]
  }
 ],
 "metadata": {
  "interpreter": {
   "hash": "96b51c792a6989d4839d314c065544fba67e314d7b530d0571cf3625bc1ceb7e"
  },
  "kernelspec": {
   "display_name": "Python 3.9.12 ('quantum')",
   "language": "python",
   "name": "python3"
  },
  "language_info": {
   "codemirror_mode": {
    "name": "ipython",
    "version": 3
   },
   "file_extension": ".py",
   "mimetype": "text/x-python",
   "name": "python",
   "nbconvert_exporter": "python",
   "pygments_lexer": "ipython3",
   "version": "3.9.12"
  },
  "orig_nbformat": 4
 },
 "nbformat": 4,
 "nbformat_minor": 2
}
