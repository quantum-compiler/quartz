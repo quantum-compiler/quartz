{
 "cells": [
  {
   "cell_type": "code",
   "execution_count": 1,
   "metadata": {},
   "outputs": [
    {
     "name": "stderr",
     "output_type": "stream",
     "text": [
      "Using backend: pytorch\n",
      "[17:02:12] /opt/dgl/src/runtime/tensordispatch.cc:43: TensorDispatcher: dlopen failed: /home/lzk/anaconda3/envs/quantum/lib/python3.8/site-packages/dgl/tensoradapter/pytorch/libtensoradapter_pytorch_1.10.2.so: cannot open shared object file: No such file or directory\n"
     ]
    },
    {
     "name": "stdout",
     "output_type": "stream",
     "text": [
      "In epoch 0, loss: 2.485, train acc: 0.917, val acc: 1.000 (best 1.000), test acc: 0.667 (best 0.667)\n",
      "In epoch 5, loss: 0.163, train acc: 0.917, val acc: 0.333 (best 1.000), test acc: 1.000 (best 0.667)\n",
      "In epoch 10, loss: 0.023, train acc: 1.000, val acc: 0.667 (best 1.000), test acc: 1.000 (best 0.667)\n",
      "In epoch 15, loss: 0.020, train acc: 1.000, val acc: 1.000 (best 1.000), test acc: 1.000 (best 0.667)\n"
     ]
    }
   ],
   "source": [
    "import quartz\n",
    "from QGNN import QGNN, train_supervised\n",
    "import torch\n",
    "import time"
   ]
  },
  {
   "cell_type": "code",
   "execution_count": 2,
   "metadata": {},
   "outputs": [],
   "source": [
    "quartz_context = quartz.QuartzContext(gate_set=['h', 'cx', 't', 'tdg'], filename='../bfs_verified_simplified.json')\n",
    "parser = quartz.PyQASMParser(context=quartz_context)\n",
    "my_dag = parser.load_qasm(filename=\"../circuit/nam-circuits/qasm_files/tof_4_before.qasm\")\n",
    "my_graph = quartz.PyGraph(context=quartz_context, dag=my_dag)\n",
    "my_graph_dgl = my_graph.to_dgl_graph()"
   ]
  },
  {
   "cell_type": "code",
   "execution_count": 3,
   "metadata": {},
   "outputs": [],
   "source": [
    "# start = time.time()\n",
    "# for node in my_graph.all_nodes():\n",
    "#     print(my_graph.available_xfers(context=quartz_context, node=node, output_format=\"int\"))\n",
    "# f\"{time.time() - start:.4f}s\""
   ]
  },
  {
   "cell_type": "code",
   "execution_count": 4,
   "metadata": {},
   "outputs": [
    {
     "name": "stdout",
     "output_type": "stream",
     "text": [
      "93.1589s\n"
     ]
    }
   ],
   "source": [
    "start = time.time()\n",
    "appliable_xfer_matrix = my_graph.get_available_xfers_matrix(context=quartz_context)\n",
    "print(f\"{time.time() - start:.4f}s\")\n",
    "my_graph_dgl.ndata['label'] = torch.tensor(appliable_xfer_matrix,dtype=torch.float)"
   ]
  },
  {
   "cell_type": "code",
   "execution_count": 5,
   "metadata": {},
   "outputs": [],
   "source": [
    "num_data = my_graph.num_nodes\n",
    "val_rate = 0.15\n",
    "test_rate = 0.15\n",
    "val_num = int(num_data * val_rate)\n",
    "test_num = int(num_data * test_rate)\n",
    "train_num = num_data - val_num - test_num\n",
    "train_mask = [1] * train_num + [0] * val_num + [0] * test_num\n",
    "val_mask = [0] * train_num + [1] * val_num + [0] * test_num\n",
    "test_mask = [0] * train_num + [0] * val_num + [1] * test_num\n",
    "\n",
    "my_graph_dgl.ndata['train_mask'] = torch.tensor(train_mask,dtype=torch.bool) \n",
    "my_graph_dgl.ndata['val_mask'] = torch.tensor(val_mask,dtype=torch.bool) \n",
    "my_graph_dgl.ndata['test_mask'] = torch.tensor(test_mask,dtype=torch.bool) \n",
    "model = QGNN(26, 16, quartz_context.num_xfers, 16)"
   ]
  },
  {
   "cell_type": "code",
   "execution_count": 6,
   "metadata": {},
   "outputs": [],
   "source": [
    "def test(*, filename):\n",
    "    test_dag = parser.load_qasm(filename=filename)\n",
    "    test_graph = quartz.PyGraph(context=quartz_context, dag=test_dag)\n",
    "    test_graph_dgl = test_graph.to_dgl_graph()\n",
    "    appliable_xfer_matrix = test_graph.get_available_xfers_matrix(context=quartz_context)\n",
    "    test_graph_dgl.ndata['label'] = torch.tensor(appliable_xfer_matrix,dtype=torch.float)\n",
    "    labels = test_graph_dgl.ndata['label']\n",
    "\n",
    "    with torch.no_grad():\n",
    "        logits = model(test_graph_dgl)\n",
    "        pred = logits > 0.5\n",
    "        test_acc = (pred == labels).float().mean()\n",
    "        print(f\"test_acc: {test_acc:.6f}\")"
   ]
  },
  {
   "cell_type": "code",
   "execution_count": 7,
   "metadata": {},
   "outputs": [
    {
     "name": "stdout",
     "output_type": "stream",
     "text": [
      "test_acc: 0.933595\n"
     ]
    }
   ],
   "source": [
    "test(filename=\"../circuit/nam-circuits/qasm_files/tof_3_before.qasm\")"
   ]
  },
  {
   "cell_type": "code",
   "execution_count": 8,
   "metadata": {},
   "outputs": [
    {
     "name": "stdout",
     "output_type": "stream",
     "text": [
      "test_acc: 0.934449\n"
     ]
    }
   ],
   "source": [
    "test(filename=\"../circuit/nam-circuits/qasm_files/tof_5_before.qasm\")"
   ]
  },
  {
   "cell_type": "code",
   "execution_count": 9,
   "metadata": {},
   "outputs": [
    {
     "name": "stdout",
     "output_type": "stream",
     "text": [
      "In epoch 0, loss: 0.111, train acc: 0.937, val acc: 0.934 (best 0.934), test acc: 0.922 (best 0.922)\n",
      "In epoch 5, loss: 0.005, train acc: 0.999, val acc: 0.999 (best 0.999), test acc: 0.999 (best 0.999)\n",
      "In epoch 10, loss: 0.002, train acc: 0.999, val acc: 0.999 (best 0.999), test acc: 0.999 (best 0.999)\n",
      "In epoch 15, loss: 0.001, train acc: 0.999, val acc: 0.999 (best 0.999), test acc: 0.999 (best 0.999)\n"
     ]
    }
   ],
   "source": [
    "train_supervised(my_graph_dgl, model)"
   ]
  },
  {
   "cell_type": "code",
   "execution_count": 10,
   "metadata": {},
   "outputs": [
    {
     "name": "stdout",
     "output_type": "stream",
     "text": [
      "test_acc: 0.998881\n"
     ]
    }
   ],
   "source": [
    "test(filename=\"../circuit/nam-circuits/qasm_files/tof_3_before.qasm\")"
   ]
  },
  {
   "cell_type": "code",
   "execution_count": 11,
   "metadata": {},
   "outputs": [
    {
     "name": "stdout",
     "output_type": "stream",
     "text": [
      "test_acc: 0.998865\n"
     ]
    }
   ],
   "source": [
    "test(filename=\"../circuit/nam-circuits/qasm_files/tof_5_before.qasm\")"
   ]
  },
  {
   "cell_type": "code",
   "execution_count": 12,
   "metadata": {},
   "outputs": [],
   "source": [
    "# test(filename=\"../circuit/nam-circuits/qasm_files/tof_10_before.qasm\")"
   ]
  }
 ],
 "metadata": {
  "interpreter": {
   "hash": "5cf248733d409ee2d3396b673fb667db69ceca2c5535c00dab670ead284bfb2d"
  },
  "kernelspec": {
   "display_name": "Python 3.8.11 ('quantum')",
   "language": "python",
   "name": "python3"
  },
  "language_info": {
   "codemirror_mode": {
    "name": "ipython",
    "version": 3
   },
   "file_extension": ".py",
   "mimetype": "text/x-python",
   "name": "python",
   "nbconvert_exporter": "python",
   "pygments_lexer": "ipython3",
   "version": "3.8.11"
  },
  "orig_nbformat": 4
 },
 "nbformat": 4,
 "nbformat_minor": 2
}
