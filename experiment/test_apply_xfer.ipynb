{
 "cells": [
  {
   "cell_type": "code",
   "execution_count": 4,
   "metadata": {},
   "outputs": [],
   "source": [
    "import quartz\n",
    "quartz_context = quartz.QuartzContext(gate_set=['h', 'cx', 'x', 'rz', 'add'], filename='ecc_set/nam.json.ecc', no_increase=False)\n",
    "my_graph = quartz.PyGraph.from_qasm(context=quartz_context, filename='nam_circs/barenco_tof_3.qasm')"
   ]
  },
  {
   "cell_type": "code",
   "execution_count": 5,
   "metadata": {},
   "outputs": [
    {
     "name": "stdout",
     "output_type": "stream",
     "text": [
      "0 [80, 82, 8668]\n",
      "1 [98, 100, 8668]\n",
      "2 [94, 210, 8668]\n",
      "3 [98, 100, 8668]\n",
      "4 [94, 210, 8668]\n",
      "5 [98, 100, 2617, 2637, 2665, 8668]\n",
      "6 [94, 210, 2019, 2023, 2769, 7026, 7027, 8668]\n",
      "7 [98, 100, 8320, 8321, 8322, 8323, 8324, 8325, 8356, 8357, 8358, 8359, 8360, 8361, 8368, 8369, 8370, 8371, 8372, 8373, 8668]\n",
      "8 [98, 100, 188, 189, 499, 501, 507, 511, 8668]\n",
      "9 [94, 210, 8668]\n",
      "10 [94, 206, 208, 210, 212, 8668]\n",
      "11 [96, 98, 100, 102, 8668]\n",
      "12 [97, 103, 8668]\n",
      "13 [169, 174, 8668]\n",
      "14 [80, 82, 8668]\n",
      "15 [98, 100, 8668]\n",
      "16 [94, 210, 8668]\n",
      "17 [98, 100, 8668]\n",
      "18 [94, 210, 8668]\n",
      "19 [98, 100, 2617, 2637, 2665, 8668]\n",
      "20 [94, 210, 2019, 2023, 2769, 7026, 7027, 8668]\n",
      "21 [98, 100, 8320, 8321, 8322, 8323, 8324, 8325, 8356, 8357, 8358, 8359, 8360, 8361, 8368, 8369, 8370, 8371, 8372, 8373, 8668]\n",
      "22 [98, 100, 188, 189, 499, 501, 507, 511, 8668]\n",
      "23 [8668]\n",
      "24 [94, 206, 208, 210, 212, 8668]\n",
      "25 [78, 84, 8668]\n",
      "26 [96, 98, 100, 102, 8668]\n",
      "27 [98, 100, 8668]\n",
      "28 [97, 103, 8668]\n",
      "29 [97, 103, 8668]\n",
      "30 [94, 210, 8668]\n",
      "31 [98, 100, 8668]\n",
      "32 [94, 210, 8668]\n",
      "33 [98, 100, 2617, 2637, 2665, 8668]\n",
      "34 [94, 210, 2019, 2023, 2769, 7026, 7027, 8668]\n",
      "35 [98, 100, 8320, 8321, 8322, 8323, 8324, 8325, 8356, 8357, 8358, 8359, 8360, 8361, 8368, 8369, 8370, 8371, 8372, 8373, 8668]\n",
      "36 [98, 100, 188, 189, 499, 501, 507, 511, 8668]\n",
      "37 [8668]\n",
      "38 [94, 206, 208, 210, 212, 8668]\n",
      "39 [8668]\n",
      "40 [96, 98, 100, 102, 8668]\n",
      "41 [8668]\n",
      "42 [169, 174, 8668]\n",
      "43 [80, 82, 8668]\n",
      "44 [98, 100, 8668]\n",
      "45 [94, 210, 8668]\n",
      "46 [98, 100, 8668]\n",
      "47 [94, 210, 8668]\n",
      "48 [98, 100, 2617, 2637, 2665, 8668]\n",
      "49 [94, 210, 2019, 2023, 2769, 7026, 7027, 8668]\n",
      "50 [98, 100, 8320, 8321, 8322, 8323, 8324, 8325, 8356, 8357, 8358, 8359, 8360, 8361, 8368, 8369, 8370, 8371, 8372, 8373, 8668]\n",
      "51 [98, 100, 188, 189, 499, 501, 507, 511, 8668]\n",
      "52 [8668]\n",
      "53 [94, 206, 208, 210, 212, 8668]\n",
      "54 [8668]\n",
      "55 [96, 98, 100, 102, 8668]\n",
      "56 [8668]\n",
      "57 [8668]\n"
     ]
    }
   ],
   "source": [
    "all_nodes = my_graph.all_nodes()\n",
    "\n",
    "cnt: int = 0\n",
    "for i, node in enumerate(all_nodes):\n",
    "    available_xfers = my_graph.available_xfers(context=quartz_context, node=node)\n",
    "    print(available_xfers)\n",
    "    cnt += len(available_xfers)\n",
    "print(cnt)"
   ]
  },
  {
   "cell_type": "code",
   "execution_count": 4,
   "metadata": {},
   "outputs": [
    {
     "name": "stdout",
     "output_type": "stream",
     "text": [
      "[32, 34]\n",
      "[32, 34]\n"
     ]
    },
    {
     "data": {
      "text/plain": [
       "(8661658053731857188, 8661658053731857188)"
      ]
     },
     "execution_count": 4,
     "metadata": {},
     "output_type": "execute_result"
    }
   ],
   "source": [
    "# new_graph = my_graph.apply_xfer(xfer=quartz_context.get_xfer_from_id(id=926), node=all_nodes[34])\n",
    "# new_graph = new_graph.apply_xfer(xfer=quartz_context.get_xfer_from_id(id=2957), node=new_graph.get_node_from_id(id=42))\n",
    "# new_graph = new_graph.apply_xfer(xfer=quartz_context.get_xfer_from_id(id=2827), node=new_graph.get_node_from_id(id=47))\n",
    "# new_graph = new_graph.apply_xfer(xfer=quartz_context.get_xfer_from_id(id=926), node=new_graph.get_node_from_id(id=54))\n",
    "# new_graph.gate_count\n",
    "new_graph_0 ,_= my_graph.apply_xfer_with_local_state_tracking(xfer=quartz_context.get_xfer_from_id(id=926), node=all_nodes[34])\n",
    "print(_)\n",
    "new_graph_1 ,_= my_graph.apply_xfer_with_local_state_tracking(xfer=quartz_context.get_xfer_from_id(id=928), node=all_nodes[34])\n",
    "print(_)\n",
    "\n",
    "# new_graph ,_= new_graph.apply_xfer_with_local_state_tracking(xfer=quartz_context.get_xfer_from_id(id=2957), node=new_graph.get_node_from_id(id=42))\n",
    "# new_graph ,_= new_graph.apply_xfer_with_local_state_tracking(xfer=quartz_context.get_xfer_from_id(id=2827), node=new_graph.get_node_from_id(id=47))\n",
    "# new_graph ,_= new_graph.apply_xfer_with_local_state_tracking(xfer=quartz_context.get_xfer_from_id(id=926), node=new_graph.get_node_from_id(id=54))\n",
    "# print(_)\n",
    "# new_graph.gate_count\n",
    "new_graph_0.hash(), new_graph_1.hash()"
   ]
  },
  {
   "cell_type": "code",
   "execution_count": 24,
   "metadata": {},
   "outputs": [
    {
     "data": {
      "text/plain": [
       "[53]"
      ]
     },
     "execution_count": 24,
     "metadata": {},
     "output_type": "execute_result"
    }
   ],
   "source": [
    "new_graph, node_id = my_graph.apply_xfer_with_local_state_tracking(xfer=quartz_context.get_xfer_from_id(id=3511), node=all_nodes[53])\n",
    "node_id"
   ]
  }
 ],
 "metadata": {
  "interpreter": {
   "hash": "96b51c792a6989d4839d314c065544fba67e314d7b530d0571cf3625bc1ceb7e"
  },
  "kernelspec": {
   "display_name": "Python 3.8.12 ('quantum')",
   "language": "python",
   "name": "python3"
  },
  "language_info": {
   "codemirror_mode": {
    "name": "ipython",
    "version": 3
   },
   "file_extension": ".py",
   "mimetype": "text/x-python",
   "name": "python",
   "nbconvert_exporter": "python",
   "pygments_lexer": "ipython3",
   "version": "3.9.12"
  },
  "orig_nbformat": 4
 },
 "nbformat": 4,
 "nbformat_minor": 2
}
