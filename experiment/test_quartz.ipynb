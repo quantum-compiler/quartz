{
 "cells": [
  {
   "cell_type": "code",
   "execution_count": null,
   "metadata": {},
   "outputs": [],
   "source": [
    "import quartz\n",
    "from quartz.core import PyGraph"
   ]
  },
  {
   "cell_type": "markdown",
   "metadata": {},
   "source": [
    "## Construct QuartzContext\n",
    "The following lines are used to construct a context in quartz which contains all the generated transfers under a given gate set."
   ]
  },
  {
   "cell_type": "code",
   "execution_count": null,
   "metadata": {},
   "outputs": [],
   "source": [
    "# Construct a context\n",
    "quartz_context = quartz.QuartzContext(gate_set=['h', 'cx', 't', 'tdg'], filename='../bfs_verified_simplified.json')"
   ]
  },
  {
   "cell_type": "code",
   "execution_count": null,
   "metadata": {},
   "outputs": [],
   "source": [
    "quartz_context.num_xfers"
   ]
  },
  {
   "cell_type": "code",
   "execution_count": null,
   "metadata": {},
   "outputs": [],
   "source": [
    "quartz_context.get_xfers()"
   ]
  },
  {
   "cell_type": "code",
   "execution_count": null,
   "metadata": {},
   "outputs": [],
   "source": [
    "quartz_context.get_xfer_from_id(id=0)"
   ]
  },
  {
   "cell_type": "markdown",
   "metadata": {},
   "source": [
    "## Construct PyGraph"
   ]
  },
  {
   "cell_type": "code",
   "execution_count": null,
   "metadata": {},
   "outputs": [],
   "source": [
    "# Construct a PyGraph from qasm file\n",
    "my_graph = PyGraph.from_qasm(context=quartz_context, filename=\"barenco_tof_3_opt_path/subst_history_39.qasm\")"
   ]
  },
  {
   "cell_type": "code",
   "execution_count": null,
   "metadata": {},
   "outputs": [],
   "source": [
    "# Construct a PyGraph from qasm string\n",
    "my_new_graph = PyGraph.from_qasm_str(context=quartz_context, qasm_str=my_graph.to_qasm_str())"
   ]
  },
  {
   "cell_type": "markdown",
   "metadata": {},
   "source": [
    "## PyGraph\n",
    "\n",
    "Below are some examples showing the APIs in PyGraph."
   ]
  },
  {
   "cell_type": "code",
   "execution_count": null,
   "metadata": {},
   "outputs": [],
   "source": [
    "my_graph.num_nodes, my_graph.num_edges"
   ]
  },
  {
   "cell_type": "code",
   "execution_count": null,
   "metadata": {},
   "outputs": [],
   "source": [
    "my_graph.all_edges()"
   ]
  },
  {
   "cell_type": "code",
   "execution_count": null,
   "metadata": {},
   "outputs": [],
   "source": [
    "my_graph.all_nodes()"
   ]
  },
  {
   "cell_type": "code",
   "execution_count": null,
   "metadata": {},
   "outputs": [],
   "source": [
    "my_graph.all_nodes_with_id()"
   ]
  },
  {
   "cell_type": "code",
   "execution_count": null,
   "metadata": {},
   "outputs": [],
   "source": [
    "my_graph.get_node_from_id(id=0)"
   ]
  },
  {
   "cell_type": "code",
   "execution_count": null,
   "metadata": {},
   "outputs": [],
   "source": [
    "my_graph.to_qasm(filename=\"test.qasm\")"
   ]
  },
  {
   "cell_type": "code",
   "execution_count": null,
   "metadata": {},
   "outputs": [],
   "source": [
    "my_graph_dgl = my_graph.to_dgl_graph()"
   ]
  },
  {
   "cell_type": "code",
   "execution_count": null,
   "metadata": {},
   "outputs": [],
   "source": [
    "my_graph_dgl.num_edges()"
   ]
  },
  {
   "cell_type": "code",
   "execution_count": null,
   "metadata": {},
   "outputs": [],
   "source": [
    "my_graph_dgl.edata"
   ]
  },
  {
   "cell_type": "code",
   "execution_count": null,
   "metadata": {},
   "outputs": [],
   "source": [
    "my_graph_dgl.ndata"
   ]
  },
  {
   "cell_type": "code",
   "execution_count": null,
   "metadata": {},
   "outputs": [],
   "source": [
    "my_graph_dgl.num_edges()"
   ]
  },
  {
   "cell_type": "code",
   "execution_count": null,
   "metadata": {},
   "outputs": [],
   "source": [
    "all_nodes = my_graph.all_nodes()\n",
    "all_nodes"
   ]
  },
  {
   "cell_type": "code",
   "execution_count": null,
   "metadata": {},
   "outputs": [],
   "source": [
    "my_graph.depth"
   ]
  },
  {
   "cell_type": "markdown",
   "metadata": {},
   "source": [
    "The codes below shows the usage of the two APIs `PyGraph.available_xfers` and `PyGraph.apply_xfer`."
   ]
  },
  {
   "cell_type": "code",
   "execution_count": null,
   "metadata": {},
   "outputs": [],
   "source": [
    "# available_xfer_matrix = my_graph.get_available_xfers_matrix(context=quartz_context)\n",
    "# for node in all_nodes:\n",
    "#     print(my_graph.available_xfers(context=quartz_context, node=node))"
   ]
  },
  {
   "cell_type": "code",
   "execution_count": null,
   "metadata": {},
   "outputs": [],
   "source": [
    "new_graph = my_graph.apply_xfer(xfer=quartz_context.get_xfer_from_id(id=3259), node=all_nodes[0])"
   ]
  },
  {
   "cell_type": "code",
   "execution_count": null,
   "metadata": {},
   "outputs": [],
   "source": [
    "new_graph.hash()"
   ]
  },
  {
   "cell_type": "code",
   "execution_count": null,
   "metadata": {},
   "outputs": [],
   "source": [
    "new_graph.gate_count"
   ]
  },
  {
   "cell_type": "markdown",
   "metadata": {},
   "source": [
    "The codes below is a back tracking search implemented with the quartz python APIs."
   ]
  },
  {
   "cell_type": "code",
   "execution_count": null,
   "metadata": {},
   "outputs": [],
   "source": [
    "from qiskit.quantum_info import Statevector\n",
    "from qiskit import QuantumCircuit\n",
    "\n",
    "def check(graph):\n",
    "    graph.to_qasm(filename='best.qasm')\n",
    "    qc_origin = QuantumCircuit.from_qasm_file('barenco_tof_3_opt_path/subst_history_39.qasm')\n",
    "    qc_optimized = QuantumCircuit.from_qasm_file('best.qasm')\n",
    "    return Statevector.from_instruction(qc_origin).equiv(Statevector.from_instruction(qc_optimized))"
   ]
  },
  {
   "cell_type": "code",
   "execution_count": null,
   "metadata": {},
   "outputs": [],
   "source": [
    "# Optimizing with BFS\n",
    "import heapq\n",
    "from concurrent.futures import ProcessPoolExecutor\n",
    "import copy\n",
    "\n",
    "candidate_hq = []\n",
    "# heapq.heappush(candidate_hq, my_graph)\n",
    "heapq.heappush(candidate_hq, (my_graph, []))\n",
    "hash_set = set()\n",
    "hash_set.add(my_graph.hash())\n",
    "best_graph = my_graph\n",
    "best_graph_trace = []\n",
    "best_gate_cnt = my_graph.gate_count\n",
    "q_max_len = 1000\n",
    "\n",
    "budget = 1_000_000\n",
    "\n",
    "# while candidate_hq != [] and budget >= 0:\n",
    "#     first_candidate = heapq.heappop(candidate_hq)\n",
    "#     print(first_candidate.gate_count)\n",
    "#     try:\n",
    "#         all_nodes = first_candidate.all_nodes()\n",
    "#     except:\n",
    "#         print(first_candidate)\n",
    "#         print(first_candidate.gate_count)\n",
    "#         print(first_candidate.num_nodes)\n",
    "#         exit(1)\n",
    "#     for node in all_nodes:\n",
    "#         appliable_xfers = first_candidate.available_xfers(context=quartz_context, node=node)\n",
    "#         for xfer in appliable_xfers:\n",
    "#             new_graph = first_candidate.apply_xfer(xfer=quartz_context.get_xfer_from_id(id=xfer), node=node)\n",
    "#             if new_graph.hash() not in hash_set:\n",
    "#                 hash_set.add(new_graph.hash())\n",
    "#                 heapq.heappush(candidate_hq, new_graph)\n",
    "#                 if new_graph < best_graph:\n",
    "#                     best_graph = new_graph\n",
    "#                     best_gate_cnt = new_graph.gate_count\n",
    "#                 budget -= 1\n",
    "#                 if budget % 1_000 == 0:\n",
    "#                     print(f'{budget}: minimum gate count is {best_gate_cnt}')\n",
    "\n",
    "while candidate_hq != [] and budget >= 0:\n",
    "    first = heapq.heappop(candidate_hq)\n",
    "    first_candidate = first[0]\n",
    "    first_candidate_trace = first[1]\n",
    "    all_nodes = first_candidate.all_nodes()\n",
    "    \n",
    "    def ax(i):\n",
    "        node = all_nodes[i]\n",
    "        return first_candidate.available_xfers(context=quartz_context, node=node)\n",
    "    \n",
    "    with ProcessPoolExecutor(max_workers=24) as executor:\n",
    "        results = executor.map(ax, list(range(len(all_nodes))))\n",
    "        appliable_xfers_nodes = []\n",
    "        for r in results:\n",
    "            appliable_xfers_nodes.append(r)\n",
    "        \n",
    "    for i in range(len(all_nodes)):\n",
    "        node = all_nodes[i]\n",
    "        appliable_xfers = appliable_xfers_nodes[i]\n",
    "        for xfer in appliable_xfers:\n",
    "            new_graph = first_candidate.apply_xfer(xfer=quartz_context.get_xfer_from_id(id=xfer), node=node)\n",
    "            if new_graph.hash() not in hash_set:\n",
    "                hash_set.add(new_graph.hash())\n",
    "                new_graph_trace = copy.deepcopy(first_candidate_trace)\n",
    "                new_graph_trace.append((i, xfer))\n",
    "                heapq.heappush(candidate_hq, (new_graph, new_graph_trace))\n",
    "                if len(candidate_hq) > q_max_len:\n",
    "                    candidate_hq = candidate_hq[:-1]\n",
    "                if new_graph < best_graph:\n",
    "                    best_graph = new_graph\n",
    "                    best_graph_trace = copy.deepcopy(new_graph_trace)\n",
    "                    best_gate_cnt = new_graph.gate_count\n",
    "                elif new_graph.gate_count == best_graph.gate_count:\n",
    "                    if len(new_graph_trace) < len(best_graph_trace):\n",
    "                        best_graph = new_graph\n",
    "                        best_graph_trace = copy.deepcopy(new_graph_trace)\n",
    "                if best_gate_cnt == 40:\n",
    "                    break\n",
    "                budget -= 1\n",
    "                if budget % 10_000 == 0:\n",
    "                    print(f'{budget}: minimum gate count is {best_gate_cnt}, correctness: {check(best_graph)}')\n",
    "                    print(f'Best graph trace: {best_graph_trace}')\n"
   ]
  }
 ],
 "metadata": {
  "kernelspec": {
   "display_name": "Python 3.9.12 ('quantum')",
   "language": "python",
   "name": "python3"
  },
  "language_info": {
   "codemirror_mode": {
    "name": "ipython",
    "version": 3
   },
   "file_extension": ".py",
   "mimetype": "text/x-python",
   "name": "python",
   "nbconvert_exporter": "python",
   "pygments_lexer": "ipython3",
   "version": "3.9.12"
  },
  "orig_nbformat": 4,
  "vscode": {
   "interpreter": {
    "hash": "96b51c792a6989d4839d314c065544fba67e314d7b530d0571cf3625bc1ceb7e"
   }
  }
 },
 "nbformat": 4,
 "nbformat_minor": 2
}
