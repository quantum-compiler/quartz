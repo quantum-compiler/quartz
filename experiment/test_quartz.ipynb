{
 "cells": [
  {
   "cell_type": "code",
   "execution_count": 1,
   "metadata": {},
   "outputs": [
    {
     "name": "stderr",
     "output_type": "stream",
     "text": [
      "Using backend: pytorch[21:18:03] /opt/dgl/src/runtime/tensordispatch.cc:43: TensorDispatcher: dlopen failed: /home/lzk/anaconda3/envs/quantum/lib/python3.8/site-packages/dgl/tensoradapter/pytorch/libtensoradapter_pytorch_1.10.2.so: cannot open shared object file: No such file or directory\n",
      "\n"
     ]
    }
   ],
   "source": [
    "# A warning message from DGL will appear which seems to be related to an open issue in the DGL library, \n",
    "# it won't hurt the execution of the program, please ignore it.\n",
    "import quartz"
   ]
  },
  {
   "cell_type": "markdown",
   "metadata": {},
   "source": [
    "## Construct QuartzContext\n",
    "The following lines are used to construct a context in quartz which contains all the generated transfers under a given gate set."
   ]
  },
  {
   "cell_type": "code",
   "execution_count": 2,
   "metadata": {},
   "outputs": [],
   "source": [
    "quartz_context = quartz.QuartzContext(gate_set=['h', 'cx', 't', 'tdg'], filename='../bfs_verified_simplified.json')"
   ]
  },
  {
   "cell_type": "code",
   "execution_count": 3,
   "metadata": {},
   "outputs": [
    {
     "data": {
      "text/plain": [
       "390"
      ]
     },
     "execution_count": 3,
     "metadata": {},
     "output_type": "execute_result"
    }
   ],
   "source": [
    "quartz_context.num_xfers"
   ]
  },
  {
   "cell_type": "code",
   "execution_count": 4,
   "metadata": {},
   "outputs": [
    {
     "data": {
      "text/plain": [
       "[<quartz.core.PyXfer at 0x7f7e360ff550>,\n",
       " <quartz.core.PyXfer at 0x7f7e360ff3b0>,\n",
       " <quartz.core.PyXfer at 0x7f7e360ff5b0>,\n",
       " <quartz.core.PyXfer at 0x7f7e360ff5f0>,\n",
       " <quartz.core.PyXfer at 0x7f7e360ff5d0>,\n",
       " <quartz.core.PyXfer at 0x7f7e360ff570>,\n",
       " <quartz.core.PyXfer at 0x7f7e360ff610>,\n",
       " <quartz.core.PyXfer at 0x7f7e360ff630>,\n",
       " <quartz.core.PyXfer at 0x7f7e360ff650>,\n",
       " <quartz.core.PyXfer at 0x7f7e360ff670>,\n",
       " <quartz.core.PyXfer at 0x7f7e360ff690>,\n",
       " <quartz.core.PyXfer at 0x7f7e360ff6b0>,\n",
       " <quartz.core.PyXfer at 0x7f7e360ff6d0>,\n",
       " <quartz.core.PyXfer at 0x7f7e360ff6f0>,\n",
       " <quartz.core.PyXfer at 0x7f7e360ff710>,\n",
       " <quartz.core.PyXfer at 0x7f7e360ff730>,\n",
       " <quartz.core.PyXfer at 0x7f7e360ff750>,\n",
       " <quartz.core.PyXfer at 0x7f7e360ff770>,\n",
       " <quartz.core.PyXfer at 0x7f7e360ff790>,\n",
       " <quartz.core.PyXfer at 0x7f7e360ff7b0>,\n",
       " <quartz.core.PyXfer at 0x7f7e360ff7d0>,\n",
       " <quartz.core.PyXfer at 0x7f7e360ff7f0>,\n",
       " <quartz.core.PyXfer at 0x7f7e360ff810>,\n",
       " <quartz.core.PyXfer at 0x7f7e360ff830>,\n",
       " <quartz.core.PyXfer at 0x7f7e360ff850>,\n",
       " <quartz.core.PyXfer at 0x7f7e360ff870>,\n",
       " <quartz.core.PyXfer at 0x7f7e360ff890>,\n",
       " <quartz.core.PyXfer at 0x7f7e360ff8b0>,\n",
       " <quartz.core.PyXfer at 0x7f7e360ff8d0>,\n",
       " <quartz.core.PyXfer at 0x7f7e360ff8f0>,\n",
       " <quartz.core.PyXfer at 0x7f7e360ff910>,\n",
       " <quartz.core.PyXfer at 0x7f7e360ff930>,\n",
       " <quartz.core.PyXfer at 0x7f7e360ff950>,\n",
       " <quartz.core.PyXfer at 0x7f7e360ff970>,\n",
       " <quartz.core.PyXfer at 0x7f7e360ff990>,\n",
       " <quartz.core.PyXfer at 0x7f7e360ff9b0>,\n",
       " <quartz.core.PyXfer at 0x7f7e360ff9d0>,\n",
       " <quartz.core.PyXfer at 0x7f7e360ff9f0>,\n",
       " <quartz.core.PyXfer at 0x7f7e360ffa10>,\n",
       " <quartz.core.PyXfer at 0x7f7e360ffa30>,\n",
       " <quartz.core.PyXfer at 0x7f7e360ffa50>,\n",
       " <quartz.core.PyXfer at 0x7f7e360ffa70>,\n",
       " <quartz.core.PyXfer at 0x7f7e360ffa90>,\n",
       " <quartz.core.PyXfer at 0x7f7e360ffab0>,\n",
       " <quartz.core.PyXfer at 0x7f7e360ffad0>,\n",
       " <quartz.core.PyXfer at 0x7f7e360ffaf0>,\n",
       " <quartz.core.PyXfer at 0x7f7e360ffb10>,\n",
       " <quartz.core.PyXfer at 0x7f7e360ffb30>,\n",
       " <quartz.core.PyXfer at 0x7f7e360ffb50>,\n",
       " <quartz.core.PyXfer at 0x7f7e360ffb70>,\n",
       " <quartz.core.PyXfer at 0x7f7e360ffb90>,\n",
       " <quartz.core.PyXfer at 0x7f7e360ffbb0>,\n",
       " <quartz.core.PyXfer at 0x7f7e360ffbd0>,\n",
       " <quartz.core.PyXfer at 0x7f7e360ffbf0>,\n",
       " <quartz.core.PyXfer at 0x7f7e360ffc10>,\n",
       " <quartz.core.PyXfer at 0x7f7e360ffc30>,\n",
       " <quartz.core.PyXfer at 0x7f7e360ffc50>,\n",
       " <quartz.core.PyXfer at 0x7f7e360ffc70>,\n",
       " <quartz.core.PyXfer at 0x7f7e360ffc90>,\n",
       " <quartz.core.PyXfer at 0x7f7e360ffcb0>,\n",
       " <quartz.core.PyXfer at 0x7f7e360ffcd0>,\n",
       " <quartz.core.PyXfer at 0x7f7e360ffcf0>,\n",
       " <quartz.core.PyXfer at 0x7f7e360ffd10>,\n",
       " <quartz.core.PyXfer at 0x7f7e360ffd30>,\n",
       " <quartz.core.PyXfer at 0x7f7e360ffd50>,\n",
       " <quartz.core.PyXfer at 0x7f7e360ffd70>,\n",
       " <quartz.core.PyXfer at 0x7f7e360ffd90>,\n",
       " <quartz.core.PyXfer at 0x7f7e360ffdb0>,\n",
       " <quartz.core.PyXfer at 0x7f7e360ffdd0>,\n",
       " <quartz.core.PyXfer at 0x7f7e360ffdf0>,\n",
       " <quartz.core.PyXfer at 0x7f7e360ffe10>,\n",
       " <quartz.core.PyXfer at 0x7f7e360ffe30>,\n",
       " <quartz.core.PyXfer at 0x7f7e360ffe50>,\n",
       " <quartz.core.PyXfer at 0x7f7e360ffe70>,\n",
       " <quartz.core.PyXfer at 0x7f7e360ffe90>,\n",
       " <quartz.core.PyXfer at 0x7f7e360ffeb0>,\n",
       " <quartz.core.PyXfer at 0x7f7e360ffed0>,\n",
       " <quartz.core.PyXfer at 0x7f7e360ffef0>,\n",
       " <quartz.core.PyXfer at 0x7f7e360fff10>,\n",
       " <quartz.core.PyXfer at 0x7f7e360fff30>,\n",
       " <quartz.core.PyXfer at 0x7f7e360fff50>,\n",
       " <quartz.core.PyXfer at 0x7f7e360fff70>,\n",
       " <quartz.core.PyXfer at 0x7f7e360fff90>,\n",
       " <quartz.core.PyXfer at 0x7f7e360fffb0>,\n",
       " <quartz.core.PyXfer at 0x7f7e360fffd0>,\n",
       " <quartz.core.PyXfer at 0x7f7e360c6030>,\n",
       " <quartz.core.PyXfer at 0x7f7e360c6050>,\n",
       " <quartz.core.PyXfer at 0x7f7e360c6070>,\n",
       " <quartz.core.PyXfer at 0x7f7e360c6090>,\n",
       " <quartz.core.PyXfer at 0x7f7e360c60b0>,\n",
       " <quartz.core.PyXfer at 0x7f7e360c60d0>,\n",
       " <quartz.core.PyXfer at 0x7f7e360c60f0>,\n",
       " <quartz.core.PyXfer at 0x7f7e360c6110>,\n",
       " <quartz.core.PyXfer at 0x7f7e360c6130>,\n",
       " <quartz.core.PyXfer at 0x7f7e360c6150>,\n",
       " <quartz.core.PyXfer at 0x7f7e360c6170>,\n",
       " <quartz.core.PyXfer at 0x7f7e360c6190>,\n",
       " <quartz.core.PyXfer at 0x7f7e360c61b0>,\n",
       " <quartz.core.PyXfer at 0x7f7e360c61d0>,\n",
       " <quartz.core.PyXfer at 0x7f7e360c61f0>,\n",
       " <quartz.core.PyXfer at 0x7f7e360c6210>,\n",
       " <quartz.core.PyXfer at 0x7f7e360c6230>,\n",
       " <quartz.core.PyXfer at 0x7f7e360c6250>,\n",
       " <quartz.core.PyXfer at 0x7f7e360c6270>,\n",
       " <quartz.core.PyXfer at 0x7f7e360c6290>,\n",
       " <quartz.core.PyXfer at 0x7f7e360c62b0>,\n",
       " <quartz.core.PyXfer at 0x7f7e360c62d0>,\n",
       " <quartz.core.PyXfer at 0x7f7e360c62f0>,\n",
       " <quartz.core.PyXfer at 0x7f7e360c6310>,\n",
       " <quartz.core.PyXfer at 0x7f7e360c6330>,\n",
       " <quartz.core.PyXfer at 0x7f7e360c6350>,\n",
       " <quartz.core.PyXfer at 0x7f7e360c6370>,\n",
       " <quartz.core.PyXfer at 0x7f7e360c6390>,\n",
       " <quartz.core.PyXfer at 0x7f7e360c63b0>,\n",
       " <quartz.core.PyXfer at 0x7f7e360c63d0>,\n",
       " <quartz.core.PyXfer at 0x7f7e360c63f0>,\n",
       " <quartz.core.PyXfer at 0x7f7e360c6410>,\n",
       " <quartz.core.PyXfer at 0x7f7e360c6430>,\n",
       " <quartz.core.PyXfer at 0x7f7e360c6450>,\n",
       " <quartz.core.PyXfer at 0x7f7e360c6470>,\n",
       " <quartz.core.PyXfer at 0x7f7e360c6490>,\n",
       " <quartz.core.PyXfer at 0x7f7e360c64b0>,\n",
       " <quartz.core.PyXfer at 0x7f7e360c64d0>,\n",
       " <quartz.core.PyXfer at 0x7f7e360c64f0>,\n",
       " <quartz.core.PyXfer at 0x7f7e360c6510>,\n",
       " <quartz.core.PyXfer at 0x7f7e360c6530>,\n",
       " <quartz.core.PyXfer at 0x7f7e360c6550>,\n",
       " <quartz.core.PyXfer at 0x7f7e360c6570>,\n",
       " <quartz.core.PyXfer at 0x7f7e360c6590>,\n",
       " <quartz.core.PyXfer at 0x7f7e360c65b0>,\n",
       " <quartz.core.PyXfer at 0x7f7e360c65d0>,\n",
       " <quartz.core.PyXfer at 0x7f7e360c65f0>,\n",
       " <quartz.core.PyXfer at 0x7f7e360c6610>,\n",
       " <quartz.core.PyXfer at 0x7f7e360c6630>,\n",
       " <quartz.core.PyXfer at 0x7f7e360c6650>,\n",
       " <quartz.core.PyXfer at 0x7f7e360c6670>,\n",
       " <quartz.core.PyXfer at 0x7f7e360c6690>,\n",
       " <quartz.core.PyXfer at 0x7f7e360c66b0>,\n",
       " <quartz.core.PyXfer at 0x7f7e360c66d0>,\n",
       " <quartz.core.PyXfer at 0x7f7e360c66f0>,\n",
       " <quartz.core.PyXfer at 0x7f7e360c6710>,\n",
       " <quartz.core.PyXfer at 0x7f7e360c6730>,\n",
       " <quartz.core.PyXfer at 0x7f7e360c6750>,\n",
       " <quartz.core.PyXfer at 0x7f7e360c6770>,\n",
       " <quartz.core.PyXfer at 0x7f7e360c6790>,\n",
       " <quartz.core.PyXfer at 0x7f7e360c67b0>,\n",
       " <quartz.core.PyXfer at 0x7f7e360c67d0>,\n",
       " <quartz.core.PyXfer at 0x7f7e360c67f0>,\n",
       " <quartz.core.PyXfer at 0x7f7e360c6810>,\n",
       " <quartz.core.PyXfer at 0x7f7e360c6830>,\n",
       " <quartz.core.PyXfer at 0x7f7e360c6850>,\n",
       " <quartz.core.PyXfer at 0x7f7e360c6870>,\n",
       " <quartz.core.PyXfer at 0x7f7e360c6890>,\n",
       " <quartz.core.PyXfer at 0x7f7e360c68b0>,\n",
       " <quartz.core.PyXfer at 0x7f7e360c68d0>,\n",
       " <quartz.core.PyXfer at 0x7f7e360c68f0>,\n",
       " <quartz.core.PyXfer at 0x7f7e360c6910>,\n",
       " <quartz.core.PyXfer at 0x7f7e360c6930>,\n",
       " <quartz.core.PyXfer at 0x7f7e360c6950>,\n",
       " <quartz.core.PyXfer at 0x7f7e360c6970>,\n",
       " <quartz.core.PyXfer at 0x7f7e360c6990>,\n",
       " <quartz.core.PyXfer at 0x7f7e360c69b0>,\n",
       " <quartz.core.PyXfer at 0x7f7e360c69d0>,\n",
       " <quartz.core.PyXfer at 0x7f7e360c69f0>,\n",
       " <quartz.core.PyXfer at 0x7f7e360c6a10>,\n",
       " <quartz.core.PyXfer at 0x7f7e360c6a30>,\n",
       " <quartz.core.PyXfer at 0x7f7e360c6a50>,\n",
       " <quartz.core.PyXfer at 0x7f7e360c6a70>,\n",
       " <quartz.core.PyXfer at 0x7f7e360c6a90>,\n",
       " <quartz.core.PyXfer at 0x7f7e360c6ab0>,\n",
       " <quartz.core.PyXfer at 0x7f7e360c6ad0>,\n",
       " <quartz.core.PyXfer at 0x7f7e360c6af0>,\n",
       " <quartz.core.PyXfer at 0x7f7e360c6b10>,\n",
       " <quartz.core.PyXfer at 0x7f7e360c6b30>,\n",
       " <quartz.core.PyXfer at 0x7f7e360c6b50>,\n",
       " <quartz.core.PyXfer at 0x7f7e360c6b70>,\n",
       " <quartz.core.PyXfer at 0x7f7e360c6b90>,\n",
       " <quartz.core.PyXfer at 0x7f7e360c6bb0>,\n",
       " <quartz.core.PyXfer at 0x7f7e360c6bd0>,\n",
       " <quartz.core.PyXfer at 0x7f7e360c6bf0>,\n",
       " <quartz.core.PyXfer at 0x7f7e360c6c10>,\n",
       " <quartz.core.PyXfer at 0x7f7e360c6c30>,\n",
       " <quartz.core.PyXfer at 0x7f7e360c6c50>,\n",
       " <quartz.core.PyXfer at 0x7f7e360c6c70>,\n",
       " <quartz.core.PyXfer at 0x7f7e360c6c90>,\n",
       " <quartz.core.PyXfer at 0x7f7e360c6cb0>,\n",
       " <quartz.core.PyXfer at 0x7f7e360c6cd0>,\n",
       " <quartz.core.PyXfer at 0x7f7e360c6cf0>,\n",
       " <quartz.core.PyXfer at 0x7f7e360c6d10>,\n",
       " <quartz.core.PyXfer at 0x7f7e360c6d30>,\n",
       " <quartz.core.PyXfer at 0x7f7e360c6d50>,\n",
       " <quartz.core.PyXfer at 0x7f7e360c6d70>,\n",
       " <quartz.core.PyXfer at 0x7f7e360c6d90>,\n",
       " <quartz.core.PyXfer at 0x7f7e360c6db0>,\n",
       " <quartz.core.PyXfer at 0x7f7e360c6dd0>,\n",
       " <quartz.core.PyXfer at 0x7f7e360c6df0>,\n",
       " <quartz.core.PyXfer at 0x7f7e360c6e10>,\n",
       " <quartz.core.PyXfer at 0x7f7e360c6e30>,\n",
       " <quartz.core.PyXfer at 0x7f7e360c6e50>,\n",
       " <quartz.core.PyXfer at 0x7f7e360c6e70>,\n",
       " <quartz.core.PyXfer at 0x7f7e360c6e90>,\n",
       " <quartz.core.PyXfer at 0x7f7e360c6eb0>,\n",
       " <quartz.core.PyXfer at 0x7f7e360c6ed0>,\n",
       " <quartz.core.PyXfer at 0x7f7e360c6ef0>,\n",
       " <quartz.core.PyXfer at 0x7f7e360c6f10>,\n",
       " <quartz.core.PyXfer at 0x7f7e360c6f30>,\n",
       " <quartz.core.PyXfer at 0x7f7e360c6f50>,\n",
       " <quartz.core.PyXfer at 0x7f7e360c6f70>,\n",
       " <quartz.core.PyXfer at 0x7f7e360c6f90>,\n",
       " <quartz.core.PyXfer at 0x7f7e360c6fb0>,\n",
       " <quartz.core.PyXfer at 0x7f7e360c6fd0>,\n",
       " <quartz.core.PyXfer at 0x7f7e360c7030>,\n",
       " <quartz.core.PyXfer at 0x7f7e360c7050>,\n",
       " <quartz.core.PyXfer at 0x7f7e360c7070>,\n",
       " <quartz.core.PyXfer at 0x7f7e360c7090>,\n",
       " <quartz.core.PyXfer at 0x7f7e360c70b0>,\n",
       " <quartz.core.PyXfer at 0x7f7e360c70d0>,\n",
       " <quartz.core.PyXfer at 0x7f7e360c70f0>,\n",
       " <quartz.core.PyXfer at 0x7f7e360c7110>,\n",
       " <quartz.core.PyXfer at 0x7f7e360c7130>,\n",
       " <quartz.core.PyXfer at 0x7f7e360c7150>,\n",
       " <quartz.core.PyXfer at 0x7f7e360c7170>,\n",
       " <quartz.core.PyXfer at 0x7f7e360c7190>,\n",
       " <quartz.core.PyXfer at 0x7f7e360c71b0>,\n",
       " <quartz.core.PyXfer at 0x7f7e360c71d0>,\n",
       " <quartz.core.PyXfer at 0x7f7e360c71f0>,\n",
       " <quartz.core.PyXfer at 0x7f7e360c7210>,\n",
       " <quartz.core.PyXfer at 0x7f7e360c7230>,\n",
       " <quartz.core.PyXfer at 0x7f7e360c7250>,\n",
       " <quartz.core.PyXfer at 0x7f7e360c7270>,\n",
       " <quartz.core.PyXfer at 0x7f7e360c7290>,\n",
       " <quartz.core.PyXfer at 0x7f7e360c72b0>,\n",
       " <quartz.core.PyXfer at 0x7f7e360c72d0>,\n",
       " <quartz.core.PyXfer at 0x7f7e360c72f0>,\n",
       " <quartz.core.PyXfer at 0x7f7e360c7310>,\n",
       " <quartz.core.PyXfer at 0x7f7e360c7330>,\n",
       " <quartz.core.PyXfer at 0x7f7e360c7350>,\n",
       " <quartz.core.PyXfer at 0x7f7e360c7370>,\n",
       " <quartz.core.PyXfer at 0x7f7e360c7390>,\n",
       " <quartz.core.PyXfer at 0x7f7e360c73b0>,\n",
       " <quartz.core.PyXfer at 0x7f7e360c73d0>,\n",
       " <quartz.core.PyXfer at 0x7f7e360c73f0>,\n",
       " <quartz.core.PyXfer at 0x7f7e360c7410>,\n",
       " <quartz.core.PyXfer at 0x7f7e360c7430>,\n",
       " <quartz.core.PyXfer at 0x7f7e360c7450>,\n",
       " <quartz.core.PyXfer at 0x7f7e360c7470>,\n",
       " <quartz.core.PyXfer at 0x7f7e360c7490>,\n",
       " <quartz.core.PyXfer at 0x7f7e360c74b0>,\n",
       " <quartz.core.PyXfer at 0x7f7e360c74d0>,\n",
       " <quartz.core.PyXfer at 0x7f7e360c74f0>,\n",
       " <quartz.core.PyXfer at 0x7f7e360c7510>,\n",
       " <quartz.core.PyXfer at 0x7f7e360c7530>,\n",
       " <quartz.core.PyXfer at 0x7f7e360c7550>,\n",
       " <quartz.core.PyXfer at 0x7f7e360c7570>,\n",
       " <quartz.core.PyXfer at 0x7f7e360c7590>,\n",
       " <quartz.core.PyXfer at 0x7f7e360c75b0>,\n",
       " <quartz.core.PyXfer at 0x7f7e360c75d0>,\n",
       " <quartz.core.PyXfer at 0x7f7e360c75f0>,\n",
       " <quartz.core.PyXfer at 0x7f7e360c7610>,\n",
       " <quartz.core.PyXfer at 0x7f7e360c7630>,\n",
       " <quartz.core.PyXfer at 0x7f7e360c7650>,\n",
       " <quartz.core.PyXfer at 0x7f7e360c7670>,\n",
       " <quartz.core.PyXfer at 0x7f7e360c7690>,\n",
       " <quartz.core.PyXfer at 0x7f7e360c76b0>,\n",
       " <quartz.core.PyXfer at 0x7f7e360c76d0>,\n",
       " <quartz.core.PyXfer at 0x7f7e360c76f0>,\n",
       " <quartz.core.PyXfer at 0x7f7e360c7710>,\n",
       " <quartz.core.PyXfer at 0x7f7e360c7730>,\n",
       " <quartz.core.PyXfer at 0x7f7e360c7750>,\n",
       " <quartz.core.PyXfer at 0x7f7e360c7770>,\n",
       " <quartz.core.PyXfer at 0x7f7e360c7790>,\n",
       " <quartz.core.PyXfer at 0x7f7e360c77b0>,\n",
       " <quartz.core.PyXfer at 0x7f7e360c77d0>,\n",
       " <quartz.core.PyXfer at 0x7f7e360c77f0>,\n",
       " <quartz.core.PyXfer at 0x7f7e360c7810>,\n",
       " <quartz.core.PyXfer at 0x7f7e360c7830>,\n",
       " <quartz.core.PyXfer at 0x7f7e360c7850>,\n",
       " <quartz.core.PyXfer at 0x7f7e360c7870>,\n",
       " <quartz.core.PyXfer at 0x7f7e360c7890>,\n",
       " <quartz.core.PyXfer at 0x7f7e360c78b0>,\n",
       " <quartz.core.PyXfer at 0x7f7e360c78d0>,\n",
       " <quartz.core.PyXfer at 0x7f7e360c78f0>,\n",
       " <quartz.core.PyXfer at 0x7f7e360c7910>,\n",
       " <quartz.core.PyXfer at 0x7f7e360c7930>,\n",
       " <quartz.core.PyXfer at 0x7f7e360c7950>,\n",
       " <quartz.core.PyXfer at 0x7f7e360c7970>,\n",
       " <quartz.core.PyXfer at 0x7f7e360c7990>,\n",
       " <quartz.core.PyXfer at 0x7f7e360c79b0>,\n",
       " <quartz.core.PyXfer at 0x7f7e360c79d0>,\n",
       " <quartz.core.PyXfer at 0x7f7e360c79f0>,\n",
       " <quartz.core.PyXfer at 0x7f7e360c7a10>,\n",
       " <quartz.core.PyXfer at 0x7f7e360c7a30>,\n",
       " <quartz.core.PyXfer at 0x7f7e360c7a50>,\n",
       " <quartz.core.PyXfer at 0x7f7e360c7a70>,\n",
       " <quartz.core.PyXfer at 0x7f7e360c7a90>,\n",
       " <quartz.core.PyXfer at 0x7f7e360c7ab0>,\n",
       " <quartz.core.PyXfer at 0x7f7e360c7ad0>,\n",
       " <quartz.core.PyXfer at 0x7f7e360c7af0>,\n",
       " <quartz.core.PyXfer at 0x7f7e360c7b10>,\n",
       " <quartz.core.PyXfer at 0x7f7e360c7b30>,\n",
       " <quartz.core.PyXfer at 0x7f7e360c7b50>,\n",
       " <quartz.core.PyXfer at 0x7f7e360c7b70>,\n",
       " <quartz.core.PyXfer at 0x7f7e360c7b90>,\n",
       " <quartz.core.PyXfer at 0x7f7e360c7bb0>,\n",
       " <quartz.core.PyXfer at 0x7f7e360c7bd0>,\n",
       " <quartz.core.PyXfer at 0x7f7e360c7bf0>,\n",
       " <quartz.core.PyXfer at 0x7f7e360c7c10>,\n",
       " <quartz.core.PyXfer at 0x7f7e360c7c30>,\n",
       " <quartz.core.PyXfer at 0x7f7e360c7c50>,\n",
       " <quartz.core.PyXfer at 0x7f7e360c7c70>,\n",
       " <quartz.core.PyXfer at 0x7f7e360c7c90>,\n",
       " <quartz.core.PyXfer at 0x7f7e360c7cb0>,\n",
       " <quartz.core.PyXfer at 0x7f7e360c7cd0>,\n",
       " <quartz.core.PyXfer at 0x7f7e360c7cf0>,\n",
       " <quartz.core.PyXfer at 0x7f7e360c7d10>,\n",
       " <quartz.core.PyXfer at 0x7f7e360c7d30>,\n",
       " <quartz.core.PyXfer at 0x7f7e360c7d50>,\n",
       " <quartz.core.PyXfer at 0x7f7e360c7d70>,\n",
       " <quartz.core.PyXfer at 0x7f7e360c7d90>,\n",
       " <quartz.core.PyXfer at 0x7f7e360c7db0>,\n",
       " <quartz.core.PyXfer at 0x7f7e360c7dd0>,\n",
       " <quartz.core.PyXfer at 0x7f7e360c7df0>,\n",
       " <quartz.core.PyXfer at 0x7f7e360c7e10>,\n",
       " <quartz.core.PyXfer at 0x7f7e360c7e30>,\n",
       " <quartz.core.PyXfer at 0x7f7e360c7e50>,\n",
       " <quartz.core.PyXfer at 0x7f7e360c7e70>,\n",
       " <quartz.core.PyXfer at 0x7f7e360c7e90>,\n",
       " <quartz.core.PyXfer at 0x7f7e360c7eb0>,\n",
       " <quartz.core.PyXfer at 0x7f7e360c7ed0>,\n",
       " <quartz.core.PyXfer at 0x7f7e360c7ef0>,\n",
       " <quartz.core.PyXfer at 0x7f7e360c7f10>,\n",
       " <quartz.core.PyXfer at 0x7f7e360c7f30>,\n",
       " <quartz.core.PyXfer at 0x7f7e360c7f50>,\n",
       " <quartz.core.PyXfer at 0x7f7e360c7f70>,\n",
       " <quartz.core.PyXfer at 0x7f7e360c7f90>,\n",
       " <quartz.core.PyXfer at 0x7f7e360c7fb0>,\n",
       " <quartz.core.PyXfer at 0x7f7e360c7fd0>,\n",
       " <quartz.core.PyXfer at 0x7f7e360c8030>,\n",
       " <quartz.core.PyXfer at 0x7f7e360c8050>,\n",
       " <quartz.core.PyXfer at 0x7f7e360c8070>,\n",
       " <quartz.core.PyXfer at 0x7f7e360c8090>,\n",
       " <quartz.core.PyXfer at 0x7f7e360c80b0>,\n",
       " <quartz.core.PyXfer at 0x7f7e360c80d0>,\n",
       " <quartz.core.PyXfer at 0x7f7e360c80f0>,\n",
       " <quartz.core.PyXfer at 0x7f7e360c8110>,\n",
       " <quartz.core.PyXfer at 0x7f7e360c8130>,\n",
       " <quartz.core.PyXfer at 0x7f7e360c8150>,\n",
       " <quartz.core.PyXfer at 0x7f7e360c8170>,\n",
       " <quartz.core.PyXfer at 0x7f7e360c8190>,\n",
       " <quartz.core.PyXfer at 0x7f7e360c81b0>,\n",
       " <quartz.core.PyXfer at 0x7f7e360c81d0>,\n",
       " <quartz.core.PyXfer at 0x7f7e360c81f0>,\n",
       " <quartz.core.PyXfer at 0x7f7e360c8210>,\n",
       " <quartz.core.PyXfer at 0x7f7e360c8230>,\n",
       " <quartz.core.PyXfer at 0x7f7e360c8250>,\n",
       " <quartz.core.PyXfer at 0x7f7e360c8270>,\n",
       " <quartz.core.PyXfer at 0x7f7e360c8290>,\n",
       " <quartz.core.PyXfer at 0x7f7e360c82b0>,\n",
       " <quartz.core.PyXfer at 0x7f7e360c82d0>,\n",
       " <quartz.core.PyXfer at 0x7f7e360c82f0>,\n",
       " <quartz.core.PyXfer at 0x7f7e360c8310>,\n",
       " <quartz.core.PyXfer at 0x7f7e360c8330>,\n",
       " <quartz.core.PyXfer at 0x7f7e360c8350>,\n",
       " <quartz.core.PyXfer at 0x7f7e360c8370>,\n",
       " <quartz.core.PyXfer at 0x7f7e360c8390>,\n",
       " <quartz.core.PyXfer at 0x7f7e360c83b0>,\n",
       " <quartz.core.PyXfer at 0x7f7e360c83d0>,\n",
       " <quartz.core.PyXfer at 0x7f7e360c83f0>,\n",
       " <quartz.core.PyXfer at 0x7f7e360c8410>,\n",
       " <quartz.core.PyXfer at 0x7f7e360c8430>,\n",
       " <quartz.core.PyXfer at 0x7f7e360c8450>,\n",
       " <quartz.core.PyXfer at 0x7f7e360c8470>,\n",
       " <quartz.core.PyXfer at 0x7f7e360c8490>,\n",
       " <quartz.core.PyXfer at 0x7f7e360c84b0>,\n",
       " <quartz.core.PyXfer at 0x7f7e360c84d0>,\n",
       " <quartz.core.PyXfer at 0x7f7e360c84f0>,\n",
       " <quartz.core.PyXfer at 0x7f7e360c8510>,\n",
       " <quartz.core.PyXfer at 0x7f7e360c8530>,\n",
       " <quartz.core.PyXfer at 0x7f7e360c8550>,\n",
       " <quartz.core.PyXfer at 0x7f7e360c8570>,\n",
       " <quartz.core.PyXfer at 0x7f7e360c8590>,\n",
       " <quartz.core.PyXfer at 0x7f7e360c85b0>,\n",
       " <quartz.core.PyXfer at 0x7f7e360c85d0>,\n",
       " <quartz.core.PyXfer at 0x7f7e360c85f0>,\n",
       " <quartz.core.PyXfer at 0x7f7e360c8610>,\n",
       " <quartz.core.PyXfer at 0x7f7e360c8630>,\n",
       " <quartz.core.PyXfer at 0x7f7e360c8650>,\n",
       " <quartz.core.PyXfer at 0x7f7e360c8670>,\n",
       " <quartz.core.PyXfer at 0x7f7e360c8690>,\n",
       " <quartz.core.PyXfer at 0x7f7e360c86b0>]"
      ]
     },
     "execution_count": 4,
     "metadata": {},
     "output_type": "execute_result"
    }
   ],
   "source": [
    "quartz_context.get_xfers()"
   ]
  },
  {
   "cell_type": "code",
   "execution_count": 5,
   "metadata": {},
   "outputs": [
    {
     "data": {
      "text/plain": [
       "<quartz.core.PyXfer at 0x7f7e360ff510>"
      ]
     },
     "execution_count": 5,
     "metadata": {},
     "output_type": "execute_result"
    }
   ],
   "source": [
    "quartz_context.get_xfer_from_id(id=0)"
   ]
  },
  {
   "cell_type": "markdown",
   "metadata": {},
   "source": [
    "## QASM parser\n",
    "You can construct a PyQASMParser to generate a PyDAG from a QASM file."
   ]
  },
  {
   "cell_type": "code",
   "execution_count": 6,
   "metadata": {},
   "outputs": [],
   "source": [
    "parser = quartz.PyQASMParser(context=quartz_context)"
   ]
  },
  {
   "cell_type": "code",
   "execution_count": 7,
   "metadata": {},
   "outputs": [
    {
     "data": {
      "text/plain": [
       "(5, 58)"
      ]
     },
     "execution_count": 7,
     "metadata": {},
     "output_type": "execute_result"
    }
   ],
   "source": [
    "my_dag = parser.load_qasm(filename=\"../circuit/example-circuits/barenco_tof_3.qasm\")\n",
    "my_dag.num_qubits, my_dag.num_gates"
   ]
  },
  {
   "cell_type": "markdown",
   "metadata": {},
   "source": [
    "## PyGraph\n",
    "\n",
    "You can construct a PyGraph from a PyDAG.\n",
    "\n",
    "Below are some examples showing the APIs in PyGraph."
   ]
  },
  {
   "cell_type": "code",
   "execution_count": 8,
   "metadata": {},
   "outputs": [],
   "source": [
    "my_graph = quartz.PyGraph(context=quartz_context, dag=my_dag)"
   ]
  },
  {
   "cell_type": "code",
   "execution_count": 9,
   "metadata": {},
   "outputs": [
    {
     "data": {
      "text/plain": [
       "(58, 77)"
      ]
     },
     "execution_count": 9,
     "metadata": {},
     "output_type": "execute_result"
    }
   ],
   "source": [
    "my_graph.num_nodes, my_graph.num_edges"
   ]
  },
  {
   "cell_type": "code",
   "execution_count": 10,
   "metadata": {},
   "outputs": [
    {
     "data": {
      "text/plain": [
       "[(0, 1, 0, 1),\n",
       " (1, 2, 1, 0),\n",
       " (1, 5, 0, 0),\n",
       " (2, 3, 0, 1),\n",
       " (3, 4, 1, 0),\n",
       " (3, 7, 0, 0),\n",
       " (4, 5, 0, 1),\n",
       " (5, 6, 1, 0),\n",
       " (5, 8, 0, 1),\n",
       " (6, 7, 0, 1),\n",
       " (7, 8, 0, 0),\n",
       " (7, 9, 1, 0),\n",
       " (8, 10, 1, 0),\n",
       " (8, 11, 0, 0),\n",
       " (10, 11, 0, 1),\n",
       " (11, 12, 0, 0),\n",
       " (11, 13, 1, 0),\n",
       " (12, 31, 0, 0),\n",
       " (13, 14, 0, 0),\n",
       " (9, 27, 0, 1),\n",
       " (14, 15, 0, 1),\n",
       " (15, 16, 1, 0),\n",
       " (15, 19, 0, 0),\n",
       " (16, 17, 0, 1),\n",
       " (17, 18, 1, 0),\n",
       " (17, 21, 0, 0),\n",
       " (18, 19, 0, 1),\n",
       " (19, 20, 1, 0),\n",
       " (19, 22, 0, 1),\n",
       " (20, 21, 0, 1),\n",
       " (21, 22, 0, 0),\n",
       " (21, 23, 1, 0),\n",
       " (22, 24, 1, 0),\n",
       " (22, 26, 0, 0),\n",
       " (24, 26, 0, 1),\n",
       " (26, 28, 0, 0),\n",
       " (26, 29, 1, 0),\n",
       " (28, 46, 0, 0),\n",
       " (29, 44, 0, 0),\n",
       " (23, 25, 0, 0),\n",
       " (25, 27, 0, 0),\n",
       " (27, 30, 1, 0),\n",
       " (27, 33, 0, 0),\n",
       " (30, 31, 0, 1),\n",
       " (31, 32, 1, 0),\n",
       " (31, 35, 0, 0),\n",
       " (32, 33, 0, 1),\n",
       " (33, 34, 1, 0),\n",
       " (33, 36, 0, 1),\n",
       " (34, 35, 0, 1),\n",
       " (35, 36, 0, 0),\n",
       " (35, 37, 1, 0),\n",
       " (36, 38, 1, 0),\n",
       " (36, 40, 0, 0),\n",
       " (38, 40, 0, 1),\n",
       " (40, 41, 0, 0),\n",
       " (40, 42, 1, 0),\n",
       " (42, 43, 0, 0),\n",
       " (37, 39, 0, 0),\n",
       " (43, 44, 0, 1),\n",
       " (44, 45, 1, 0),\n",
       " (44, 48, 0, 0),\n",
       " (45, 46, 0, 1),\n",
       " (46, 47, 1, 0),\n",
       " (46, 50, 0, 0),\n",
       " (47, 48, 0, 1),\n",
       " (48, 49, 1, 0),\n",
       " (48, 51, 0, 1),\n",
       " (49, 50, 0, 1),\n",
       " (50, 51, 0, 0),\n",
       " (50, 52, 1, 0),\n",
       " (51, 53, 1, 0),\n",
       " (51, 55, 0, 0),\n",
       " (53, 55, 0, 1),\n",
       " (55, 56, 0, 0),\n",
       " (55, 57, 1, 0),\n",
       " (52, 54, 0, 0)]"
      ]
     },
     "execution_count": 10,
     "metadata": {},
     "output_type": "execute_result"
    }
   ],
   "source": [
    "my_graph.all_edges()"
   ]
  },
  {
   "cell_type": "code",
   "execution_count": 11,
   "metadata": {},
   "outputs": [
    {
     "data": {
      "text/plain": [
       "[<quartz.core.PyNode at 0x7f7e360c8a10>,\n",
       " <quartz.core.PyNode at 0x7f7e360c8ed0>,\n",
       " <quartz.core.PyNode at 0x7f7e360c8c70>,\n",
       " <quartz.core.PyNode at 0x7f7e360c8bd0>,\n",
       " <quartz.core.PyNode at 0x7f7e360c8fd0>,\n",
       " <quartz.core.PyNode at 0x7f7e360c8c10>,\n",
       " <quartz.core.PyNode at 0x7f7e360c8fb0>,\n",
       " <quartz.core.PyNode at 0x7f7e360c8f10>,\n",
       " <quartz.core.PyNode at 0x7f7e360c8cb0>,\n",
       " <quartz.core.PyNode at 0x7f7e360c8e70>,\n",
       " <quartz.core.PyNode at 0x7f7e360c8cf0>,\n",
       " <quartz.core.PyNode at 0x7f7e360c8d10>,\n",
       " <quartz.core.PyNode at 0x7f7e360c8d30>,\n",
       " <quartz.core.PyNode at 0x7f7e360c8e90>,\n",
       " <quartz.core.PyNode at 0x7f7e360c8d70>,\n",
       " <quartz.core.PyNode at 0x7f7e360c8d90>,\n",
       " <quartz.core.PyNode at 0x7f7e360c8db0>,\n",
       " <quartz.core.PyNode at 0x7f7e360c8f90>,\n",
       " <quartz.core.PyNode at 0x7f7e360c8df0>,\n",
       " <quartz.core.PyNode at 0x7f7e360c8e10>,\n",
       " <quartz.core.PyNode at 0x7f7e360c8e30>,\n",
       " <quartz.core.PyNode at 0x7f7e360c8f70>,\n",
       " <quartz.core.PyNode at 0x7f7e360c8f30>,\n",
       " <quartz.core.PyNode at 0x7f7e360c8f50>,\n",
       " <quartz.core.PyNode at 0x7f7e360c8ef0>,\n",
       " <quartz.core.PyNode at 0x7f7e360c8dd0>,\n",
       " <quartz.core.PyNode at 0x7f7e360c8d50>,\n",
       " <quartz.core.PyNode at 0x7f7e360c8cd0>,\n",
       " <quartz.core.PyNode at 0x7f7e360c8bf0>,\n",
       " <quartz.core.PyNode at 0x7f7e360c8b90>,\n",
       " <quartz.core.PyNode at 0x7f7e360c8b70>,\n",
       " <quartz.core.PyNode at 0x7f7e360c8b50>,\n",
       " <quartz.core.PyNode at 0x7f7e360c8b30>,\n",
       " <quartz.core.PyNode at 0x7f7e360c8b10>,\n",
       " <quartz.core.PyNode at 0x7f7e360c8af0>,\n",
       " <quartz.core.PyNode at 0x7f7e360c8a50>,\n",
       " <quartz.core.PyNode at 0x7f7e360c89f0>,\n",
       " <quartz.core.PyNode at 0x7f7e360c89d0>,\n",
       " <quartz.core.PyNode at 0x7f7e360c8770>,\n",
       " <quartz.core.PyNode at 0x7f7e360c8ab0>,\n",
       " <quartz.core.PyNode at 0x7f7e360c8a90>,\n",
       " <quartz.core.PyNode at 0x7f7e360c8a30>,\n",
       " <quartz.core.PyNode at 0x7f7e360c8930>,\n",
       " <quartz.core.PyNode at 0x7f7e360c8950>,\n",
       " <quartz.core.PyNode at 0x7f7e360c8990>,\n",
       " <quartz.core.PyNode at 0x7f7e360c8ad0>,\n",
       " <quartz.core.PyNode at 0x7f7e360c8a70>,\n",
       " <quartz.core.PyNode at 0x7f7e360c5030>,\n",
       " <quartz.core.PyNode at 0x7f7e360c5050>,\n",
       " <quartz.core.PyNode at 0x7f7e360c5070>,\n",
       " <quartz.core.PyNode at 0x7f7e360c5090>,\n",
       " <quartz.core.PyNode at 0x7f7e360c50b0>,\n",
       " <quartz.core.PyNode at 0x7f7e360c50d0>,\n",
       " <quartz.core.PyNode at 0x7f7e360c50f0>,\n",
       " <quartz.core.PyNode at 0x7f7e360c5110>,\n",
       " <quartz.core.PyNode at 0x7f7e360c5130>,\n",
       " <quartz.core.PyNode at 0x7f7e360c5150>,\n",
       " <quartz.core.PyNode at 0x7f7e360c5170>]"
      ]
     },
     "execution_count": 11,
     "metadata": {},
     "output_type": "execute_result"
    }
   ],
   "source": [
    "my_graph.all_nodes()"
   ]
  },
  {
   "cell_type": "code",
   "execution_count": 12,
   "metadata": {},
   "outputs": [
    {
     "data": {
      "text/plain": [
       "[{'id': 0, 'node': <quartz.core.PyNode at 0x7f7e360c51f0>},\n",
       " {'id': 1, 'node': <quartz.core.PyNode at 0x7f7e360c5210>},\n",
       " {'id': 2, 'node': <quartz.core.PyNode at 0x7f7e360c51d0>},\n",
       " {'id': 3, 'node': <quartz.core.PyNode at 0x7f7e360c5290>},\n",
       " {'id': 4, 'node': <quartz.core.PyNode at 0x7f7e360c52b0>},\n",
       " {'id': 5, 'node': <quartz.core.PyNode at 0x7f7e360c5270>},\n",
       " {'id': 6, 'node': <quartz.core.PyNode at 0x7f7e360c52d0>},\n",
       " {'id': 7, 'node': <quartz.core.PyNode at 0x7f7e360c52f0>},\n",
       " {'id': 8, 'node': <quartz.core.PyNode at 0x7f7e360c5310>},\n",
       " {'id': 9, 'node': <quartz.core.PyNode at 0x7f7e360c5330>},\n",
       " {'id': 10, 'node': <quartz.core.PyNode at 0x7f7e360c5350>},\n",
       " {'id': 11, 'node': <quartz.core.PyNode at 0x7f7e360c5370>},\n",
       " {'id': 12, 'node': <quartz.core.PyNode at 0x7f7e360c5390>},\n",
       " {'id': 13, 'node': <quartz.core.PyNode at 0x7f7e360c53b0>},\n",
       " {'id': 14, 'node': <quartz.core.PyNode at 0x7f7e360c53d0>},\n",
       " {'id': 15, 'node': <quartz.core.PyNode at 0x7f7e360c53f0>},\n",
       " {'id': 16, 'node': <quartz.core.PyNode at 0x7f7e360c5410>},\n",
       " {'id': 17, 'node': <quartz.core.PyNode at 0x7f7e360c5430>},\n",
       " {'id': 18, 'node': <quartz.core.PyNode at 0x7f7e360c5450>},\n",
       " {'id': 19, 'node': <quartz.core.PyNode at 0x7f7e360c5470>},\n",
       " {'id': 20, 'node': <quartz.core.PyNode at 0x7f7e360c5490>},\n",
       " {'id': 21, 'node': <quartz.core.PyNode at 0x7f7e360c54b0>},\n",
       " {'id': 22, 'node': <quartz.core.PyNode at 0x7f7e360c54d0>},\n",
       " {'id': 23, 'node': <quartz.core.PyNode at 0x7f7e360c54f0>},\n",
       " {'id': 24, 'node': <quartz.core.PyNode at 0x7f7e360c5510>},\n",
       " {'id': 25, 'node': <quartz.core.PyNode at 0x7f7e360c5530>},\n",
       " {'id': 26, 'node': <quartz.core.PyNode at 0x7f7e360c5550>},\n",
       " {'id': 27, 'node': <quartz.core.PyNode at 0x7f7e360c5570>},\n",
       " {'id': 28, 'node': <quartz.core.PyNode at 0x7f7e360c5590>},\n",
       " {'id': 29, 'node': <quartz.core.PyNode at 0x7f7e360c55b0>},\n",
       " {'id': 30, 'node': <quartz.core.PyNode at 0x7f7e360c55d0>},\n",
       " {'id': 31, 'node': <quartz.core.PyNode at 0x7f7e360c55f0>},\n",
       " {'id': 32, 'node': <quartz.core.PyNode at 0x7f7e360c5610>},\n",
       " {'id': 33, 'node': <quartz.core.PyNode at 0x7f7e360c5630>},\n",
       " {'id': 34, 'node': <quartz.core.PyNode at 0x7f7e360c5650>},\n",
       " {'id': 35, 'node': <quartz.core.PyNode at 0x7f7e360c5670>},\n",
       " {'id': 36, 'node': <quartz.core.PyNode at 0x7f7e360c5690>},\n",
       " {'id': 37, 'node': <quartz.core.PyNode at 0x7f7e360c56b0>},\n",
       " {'id': 38, 'node': <quartz.core.PyNode at 0x7f7e360c56d0>},\n",
       " {'id': 39, 'node': <quartz.core.PyNode at 0x7f7e360c56f0>},\n",
       " {'id': 40, 'node': <quartz.core.PyNode at 0x7f7e360c5710>},\n",
       " {'id': 41, 'node': <quartz.core.PyNode at 0x7f7e360c5730>},\n",
       " {'id': 42, 'node': <quartz.core.PyNode at 0x7f7e360c5750>},\n",
       " {'id': 43, 'node': <quartz.core.PyNode at 0x7f7e360c5770>},\n",
       " {'id': 44, 'node': <quartz.core.PyNode at 0x7f7e360c5790>},\n",
       " {'id': 45, 'node': <quartz.core.PyNode at 0x7f7e360c57b0>},\n",
       " {'id': 46, 'node': <quartz.core.PyNode at 0x7f7e360c57d0>},\n",
       " {'id': 47, 'node': <quartz.core.PyNode at 0x7f7e360c57f0>},\n",
       " {'id': 48, 'node': <quartz.core.PyNode at 0x7f7e360c5810>},\n",
       " {'id': 49, 'node': <quartz.core.PyNode at 0x7f7e360c5830>},\n",
       " {'id': 50, 'node': <quartz.core.PyNode at 0x7f7e360c5850>},\n",
       " {'id': 51, 'node': <quartz.core.PyNode at 0x7f7e360c5870>},\n",
       " {'id': 52, 'node': <quartz.core.PyNode at 0x7f7e360c5890>},\n",
       " {'id': 53, 'node': <quartz.core.PyNode at 0x7f7e360c58b0>},\n",
       " {'id': 54, 'node': <quartz.core.PyNode at 0x7f7e360c58d0>},\n",
       " {'id': 55, 'node': <quartz.core.PyNode at 0x7f7e360c58f0>},\n",
       " {'id': 56, 'node': <quartz.core.PyNode at 0x7f7e360c5910>},\n",
       " {'id': 57, 'node': <quartz.core.PyNode at 0x7f7e360c5930>}]"
      ]
     },
     "execution_count": 12,
     "metadata": {},
     "output_type": "execute_result"
    }
   ],
   "source": [
    "my_graph.all_nodes_with_id()"
   ]
  },
  {
   "cell_type": "code",
   "execution_count": 13,
   "metadata": {},
   "outputs": [
    {
     "data": {
      "text/plain": [
       "<quartz.core.PyNode at 0x7f7e360c5190>"
      ]
     },
     "execution_count": 13,
     "metadata": {},
     "output_type": "execute_result"
    }
   ],
   "source": [
    "my_graph.get_node_from_id(id=0)"
   ]
  },
  {
   "cell_type": "code",
   "execution_count": 18,
   "metadata": {},
   "outputs": [
    {
     "data": {
      "text/plain": [
       "390"
      ]
     },
     "execution_count": 18,
     "metadata": {},
     "output_type": "execute_result"
    }
   ],
   "source": [
    "available_xfer_matrix = my_graph.get_available_xfers_matrix(context=quartz_context)\n",
    "len(available_xfer_matrix[0])"
   ]
  },
  {
   "cell_type": "code",
   "execution_count": 17,
   "metadata": {},
   "outputs": [],
   "source": [
    "my_graph_dgl = my_graph.to_dgl_graph()"
   ]
  },
  {
   "cell_type": "code",
   "execution_count": 15,
   "metadata": {},
   "outputs": [
    {
     "data": {
      "text/plain": [
       "154"
      ]
     },
     "execution_count": 15,
     "metadata": {},
     "output_type": "execute_result"
    }
   ],
   "source": [
    "my_graph_dgl.num_edges()"
   ]
  },
  {
   "cell_type": "code",
   "execution_count": 16,
   "metadata": {},
   "outputs": [
    {
     "data": {
      "text/plain": [
       "{'src_idx': tensor([0, 1, 0, 0, 1, 0, 0, 1, 0, 0, 0, 1, 1, 0, 0, 0, 1, 0, 0, 0, 0, 1, 0, 0,\n",
       "        1, 0, 0, 1, 0, 0, 0, 1, 1, 0, 0, 0, 1, 0, 0, 0, 0, 1, 0, 0, 1, 0, 0, 1,\n",
       "        0, 0, 0, 1, 1, 0, 0, 0, 1, 0, 0, 0, 1, 0, 0, 1, 0, 0, 1, 0, 0, 0, 1, 1,\n",
       "        0, 0, 0, 1, 0, 1, 0, 0, 1, 0, 0, 1, 0, 1, 1, 0, 0, 0, 0, 1, 0, 0, 0, 0,\n",
       "        1, 1, 0, 0, 1, 0, 0, 1, 0, 1, 1, 0, 0, 0, 0, 1, 0, 0, 0, 0, 0, 0, 0, 0,\n",
       "        1, 0, 0, 1, 0, 1, 1, 0, 0, 0, 0, 1, 0, 0, 0, 0, 1, 0, 0, 1, 0, 0, 1, 0,\n",
       "        1, 1, 0, 0, 0, 0, 1, 0, 0, 0]), 'dst_idx': tensor([1, 0, 0, 1, 0, 0, 1, 0, 1, 1, 0, 0, 0, 0, 1, 0, 0, 0, 0, 1, 1, 0, 0, 1,\n",
       "        0, 0, 1, 0, 1, 1, 0, 0, 0, 0, 1, 0, 0, 0, 0, 0, 0, 0, 0, 1, 0, 0, 1, 0,\n",
       "        1, 1, 0, 0, 0, 0, 1, 0, 0, 0, 0, 1, 0, 0, 1, 0, 0, 1, 0, 1, 1, 0, 0, 0,\n",
       "        0, 1, 0, 0, 0, 0, 1, 0, 0, 1, 0, 0, 1, 0, 0, 0, 1, 1, 0, 0, 0, 1, 0, 0,\n",
       "        0, 0, 1, 0, 0, 1, 0, 0, 1, 0, 0, 0, 1, 1, 0, 0, 0, 1, 0, 0, 0, 0, 1, 0,\n",
       "        0, 1, 0, 0, 1, 0, 0, 0, 1, 1, 0, 0, 0, 1, 0, 0, 0, 1, 0, 0, 1, 0, 0, 1,\n",
       "        0, 0, 0, 1, 1, 0, 0, 0, 1, 0]), 'reversed': tensor([0, 0, 0, 0, 0, 0, 0, 0, 0, 0, 0, 0, 0, 0, 0, 0, 0, 0, 0, 0, 0, 0, 0, 0,\n",
       "        0, 0, 0, 0, 0, 0, 0, 0, 0, 0, 0, 0, 0, 0, 0, 0, 0, 0, 0, 0, 0, 0, 0, 0,\n",
       "        0, 0, 0, 0, 0, 0, 0, 0, 0, 0, 0, 0, 0, 0, 0, 0, 0, 0, 0, 0, 0, 0, 0, 0,\n",
       "        0, 0, 0, 0, 0, 1, 1, 1, 1, 1, 1, 1, 1, 1, 1, 1, 1, 1, 1, 1, 1, 1, 1, 1,\n",
       "        1, 1, 1, 1, 1, 1, 1, 1, 1, 1, 1, 1, 1, 1, 1, 1, 1, 1, 1, 1, 1, 1, 1, 1,\n",
       "        1, 1, 1, 1, 1, 1, 1, 1, 1, 1, 1, 1, 1, 1, 1, 1, 1, 1, 1, 1, 1, 1, 1, 1,\n",
       "        1, 1, 1, 1, 1, 1, 1, 1, 1, 1])}"
      ]
     },
     "execution_count": 16,
     "metadata": {},
     "output_type": "execute_result"
    }
   ],
   "source": [
    "my_graph_dgl.edata"
   ]
  },
  {
   "cell_type": "code",
   "execution_count": 24,
   "metadata": {},
   "outputs": [
    {
     "data": {
      "text/plain": [
       "{'gate_type': tensor([ 0,  6, 14,  6, 13,  6, 14,  6,  6, 13, 14,  6, 13, 13,  0,  6, 14,  6,\n",
       "        13,  6, 14,  6,  6, 13, 14,  0,  6,  6, 13, 13, 13,  6, 14,  6, 13,  6,\n",
       "         6, 14, 13,  0,  6, 14, 14,  0,  6, 13,  6, 14,  6, 13,  6,  6, 14, 13,\n",
       "         0,  6, 14, 14])}"
      ]
     },
     "execution_count": 24,
     "metadata": {},
     "output_type": "execute_result"
    }
   ],
   "source": [
    "my_graph_dgl.ndata"
   ]
  },
  {
   "cell_type": "code",
   "execution_count": 17,
   "metadata": {},
   "outputs": [
    {
     "data": {
      "text/plain": [
       "154"
      ]
     },
     "execution_count": 17,
     "metadata": {},
     "output_type": "execute_result"
    }
   ],
   "source": [
    "my_graph_dgl.num_edges()"
   ]
  },
  {
   "cell_type": "code",
   "execution_count": 18,
   "metadata": {},
   "outputs": [
    {
     "data": {
      "text/plain": [
       "[<quartz.core.PyNode at 0x7f87b480e9d0>,\n",
       " <quartz.core.PyNode at 0x7f87b480ed70>,\n",
       " <quartz.core.PyNode at 0x7f87b480ee10>,\n",
       " <quartz.core.PyNode at 0x7f87b480ee90>,\n",
       " <quartz.core.PyNode at 0x7f87b480ed50>,\n",
       " <quartz.core.PyNode at 0x7f87b480edb0>,\n",
       " <quartz.core.PyNode at 0x7f87b480edd0>,\n",
       " <quartz.core.PyNode at 0x7f87b480ee70>,\n",
       " <quartz.core.PyNode at 0x7f87b480edf0>,\n",
       " <quartz.core.PyNode at 0x7f87b480ecf0>,\n",
       " <quartz.core.PyNode at 0x7f87b480ecd0>,\n",
       " <quartz.core.PyNode at 0x7f87b480ecb0>,\n",
       " <quartz.core.PyNode at 0x7f87b480ec90>,\n",
       " <quartz.core.PyNode at 0x7f87b480ec70>,\n",
       " <quartz.core.PyNode at 0x7f87b480ec50>,\n",
       " <quartz.core.PyNode at 0x7f87b480ec30>,\n",
       " <quartz.core.PyNode at 0x7f87b480ec10>,\n",
       " <quartz.core.PyNode at 0x7f87b480ebf0>,\n",
       " <quartz.core.PyNode at 0x7f87b480ebd0>,\n",
       " <quartz.core.PyNode at 0x7f87b480ebb0>,\n",
       " <quartz.core.PyNode at 0x7f87b480eb90>,\n",
       " <quartz.core.PyNode at 0x7f87b480eb70>,\n",
       " <quartz.core.PyNode at 0x7f87b480eb50>,\n",
       " <quartz.core.PyNode at 0x7f87b480eb30>,\n",
       " <quartz.core.PyNode at 0x7f87b480eb10>,\n",
       " <quartz.core.PyNode at 0x7f87b480eaf0>,\n",
       " <quartz.core.PyNode at 0x7f87b480ead0>,\n",
       " <quartz.core.PyNode at 0x7f87b480eab0>,\n",
       " <quartz.core.PyNode at 0x7f87b480ea90>,\n",
       " <quartz.core.PyNode at 0x7f87b480ea70>,\n",
       " <quartz.core.PyNode at 0x7f87b480ea50>,\n",
       " <quartz.core.PyNode at 0x7f87b480ea30>,\n",
       " <quartz.core.PyNode at 0x7f87b480ea10>,\n",
       " <quartz.core.PyNode at 0x7f87b480e8d0>,\n",
       " <quartz.core.PyNode at 0x7f87b480e970>,\n",
       " <quartz.core.PyNode at 0x7f87b480e990>,\n",
       " <quartz.core.PyNode at 0x7f87b480e8f0>,\n",
       " <quartz.core.PyNode at 0x7f87b480e9b0>,\n",
       " <quartz.core.PyNode at 0x7f87b480e950>,\n",
       " <quartz.core.PyNode at 0x7f87b480e890>,\n",
       " <quartz.core.PyNode at 0x7f87b480eef0>,\n",
       " <quartz.core.PyNode at 0x7f87b480eeb0>,\n",
       " <quartz.core.PyNode at 0x7f87b481e030>,\n",
       " <quartz.core.PyNode at 0x7f87b481e050>,\n",
       " <quartz.core.PyNode at 0x7f87b481e070>,\n",
       " <quartz.core.PyNode at 0x7f87b481e090>,\n",
       " <quartz.core.PyNode at 0x7f87b481e0b0>,\n",
       " <quartz.core.PyNode at 0x7f87b481e0d0>,\n",
       " <quartz.core.PyNode at 0x7f87b481e0f0>,\n",
       " <quartz.core.PyNode at 0x7f87b481e110>,\n",
       " <quartz.core.PyNode at 0x7f87b481e130>,\n",
       " <quartz.core.PyNode at 0x7f87b481e150>,\n",
       " <quartz.core.PyNode at 0x7f87b481e170>,\n",
       " <quartz.core.PyNode at 0x7f87b481e190>,\n",
       " <quartz.core.PyNode at 0x7f87b481e1b0>,\n",
       " <quartz.core.PyNode at 0x7f87b481e1d0>,\n",
       " <quartz.core.PyNode at 0x7f87b481e1f0>,\n",
       " <quartz.core.PyNode at 0x7f87b481e210>]"
      ]
     },
     "execution_count": 18,
     "metadata": {},
     "output_type": "execute_result"
    }
   ],
   "source": [
    "all_nodes = my_graph.all_nodes()\n",
    "all_nodes"
   ]
  },
  {
   "cell_type": "markdown",
   "metadata": {},
   "source": [
    "The codes below shows the usage of the two APIs `PyGraph.available_xfers` and `PyGraph.apply_xfer`."
   ]
  },
  {
   "cell_type": "code",
   "execution_count": 19,
   "metadata": {},
   "outputs": [
    {
     "name": "stdout",
     "output_type": "stream",
     "text": [
      "[128]\n",
      "[190]\n",
      "[138]\n",
      "[]\n",
      "[208, 314]\n",
      "[190]\n",
      "[138]\n",
      "[]\n",
      "[41, 172, 173, 190]\n",
      "[]\n",
      "[138]\n",
      "[133, 143]\n",
      "[132, 142]\n",
      "[]\n",
      "[128]\n",
      "[190]\n",
      "[138]\n",
      "[]\n",
      "[208, 314]\n",
      "[190]\n",
      "[138]\n",
      "[]\n",
      "[41, 172, 173, 190]\n",
      "[]\n",
      "[138]\n",
      "[364]\n",
      "[133, 143]\n",
      "[]\n",
      "[132, 142]\n",
      "[132, 142]\n",
      "[208, 314]\n",
      "[190]\n",
      "[138]\n",
      "[]\n",
      "[208, 314]\n",
      "[190]\n",
      "[157, 164, 165]\n",
      "[]\n",
      "[208, 314]\n",
      "[]\n",
      "[151, 190, 199]\n",
      "[]\n",
      "[]\n",
      "[128]\n",
      "[]\n",
      "[208, 314]\n",
      "[190]\n",
      "[138]\n",
      "[]\n",
      "[208, 314]\n",
      "[190]\n",
      "[157, 164, 165]\n",
      "[]\n",
      "[208, 314]\n",
      "[]\n",
      "[151, 190, 199]\n",
      "[]\n",
      "[]\n"
     ]
    }
   ],
   "source": [
    "for node in all_nodes:\n",
    "    print(my_graph.available_xfers(quartz_context, node, \"int\"))"
   ]
  },
  {
   "cell_type": "code",
   "execution_count": 20,
   "metadata": {},
   "outputs": [],
   "source": [
    "new_graph = my_graph.apply_xfer(xfer=quartz_context.get_xfer_from_id(id=190), node=all_nodes[1])"
   ]
  },
  {
   "cell_type": "code",
   "execution_count": 21,
   "metadata": {},
   "outputs": [
    {
     "data": {
      "text/plain": [
       "17326186595640972556"
      ]
     },
     "execution_count": 21,
     "metadata": {},
     "output_type": "execute_result"
    }
   ],
   "source": [
    "new_graph.hash()"
   ]
  },
  {
   "cell_type": "code",
   "execution_count": 22,
   "metadata": {},
   "outputs": [
    {
     "data": {
      "text/plain": [
       "60"
      ]
     },
     "execution_count": 22,
     "metadata": {},
     "output_type": "execute_result"
    }
   ],
   "source": [
    "new_graph.gate_count"
   ]
  },
  {
   "cell_type": "markdown",
   "metadata": {},
   "source": [
    "The codes below is a back tracking search implemented with the quartz python APIs."
   ]
  },
  {
   "cell_type": "code",
   "execution_count": 23,
   "metadata": {},
   "outputs": [
    {
     "ename": "KeyboardInterrupt",
     "evalue": "",
     "output_type": "error",
     "traceback": [
      "\u001b[0;31m---------------------------------------------------------------------------\u001b[0m",
      "\u001b[0;31mKeyboardInterrupt\u001b[0m                         Traceback (most recent call last)",
      "\u001b[0;32m/tmp/ipykernel_26526/2237083023.py\u001b[0m in \u001b[0;36m<module>\u001b[0;34m\u001b[0m\n\u001b[1;32m     15\u001b[0m     \u001b[0mall_nodes\u001b[0m \u001b[0;34m=\u001b[0m \u001b[0mfirst_candidate\u001b[0m\u001b[0;34m.\u001b[0m\u001b[0mall_nodes\u001b[0m\u001b[0;34m(\u001b[0m\u001b[0;34m)\u001b[0m\u001b[0;34m\u001b[0m\u001b[0;34m\u001b[0m\u001b[0m\n\u001b[1;32m     16\u001b[0m     \u001b[0;32mfor\u001b[0m \u001b[0mnode\u001b[0m \u001b[0;32min\u001b[0m \u001b[0mall_nodes\u001b[0m\u001b[0;34m:\u001b[0m\u001b[0;34m\u001b[0m\u001b[0;34m\u001b[0m\u001b[0m\n\u001b[0;32m---> 17\u001b[0;31m         \u001b[0mappliable_xfers\u001b[0m \u001b[0;34m=\u001b[0m \u001b[0mfirst_candidate\u001b[0m\u001b[0;34m.\u001b[0m\u001b[0mavailable_xfers\u001b[0m\u001b[0;34m(\u001b[0m\u001b[0mquartz_context\u001b[0m\u001b[0;34m,\u001b[0m \u001b[0mnode\u001b[0m\u001b[0;34m,\u001b[0m \u001b[0;34m\"int\"\u001b[0m\u001b[0;34m)\u001b[0m\u001b[0;34m\u001b[0m\u001b[0;34m\u001b[0m\u001b[0m\n\u001b[0m\u001b[1;32m     18\u001b[0m         \u001b[0;32mfor\u001b[0m \u001b[0mxfer\u001b[0m \u001b[0;32min\u001b[0m \u001b[0mappliable_xfers\u001b[0m\u001b[0;34m:\u001b[0m\u001b[0;34m\u001b[0m\u001b[0;34m\u001b[0m\u001b[0m\n\u001b[1;32m     19\u001b[0m             \u001b[0mnew_graph\u001b[0m \u001b[0;34m=\u001b[0m \u001b[0mfirst_candidate\u001b[0m\u001b[0;34m.\u001b[0m\u001b[0mapply_xfer\u001b[0m\u001b[0;34m(\u001b[0m\u001b[0mxfer\u001b[0m\u001b[0;34m=\u001b[0m\u001b[0mquartz_context\u001b[0m\u001b[0;34m.\u001b[0m\u001b[0mget_xfer_from_id\u001b[0m\u001b[0;34m(\u001b[0m\u001b[0mid\u001b[0m\u001b[0;34m=\u001b[0m\u001b[0mxfer\u001b[0m\u001b[0;34m)\u001b[0m\u001b[0;34m,\u001b[0m \u001b[0mnode\u001b[0m\u001b[0;34m=\u001b[0m\u001b[0mnode\u001b[0m\u001b[0;34m)\u001b[0m\u001b[0;34m\u001b[0m\u001b[0;34m\u001b[0m\u001b[0m\n",
      "\u001b[0;31mKeyboardInterrupt\u001b[0m: "
     ]
    }
   ],
   "source": [
    "# Optimizing with BFS\n",
    "import heapq\n",
    "\n",
    "candidate_hq = []\n",
    "heapq.heappush(candidate_hq, my_graph)\n",
    "hash_set = set()\n",
    "hash_set.add(my_graph.hash())\n",
    "best_graph = my_graph\n",
    "best_gate_cnt = my_graph.gate_count\n",
    "\n",
    "budget = 10_000\n",
    "\n",
    "while candidate_hq != [] and budget >= 0:\n",
    "    first_candidate = heapq.heappop(candidate_hq)\n",
    "    all_nodes = first_candidate.all_nodes()\n",
    "    for node in all_nodes:\n",
    "        appliable_xfers = first_candidate.available_xfers(quartz_context, node, \"int\")\n",
    "        for xfer in appliable_xfers:\n",
    "            new_graph = first_candidate.apply_xfer(xfer=quartz_context.get_xfer_from_id(id=xfer), node=node)\n",
    "            if new_graph.hash() not in hash_set:\n",
    "                hash_set.add(new_graph.hash())\n",
    "                heapq.heappush(candidate_hq, new_graph)\n",
    "                if new_graph < best_graph:\n",
    "                    best_graph = new_graph\n",
    "                    best_gate_cnt = new_graph.gate_count\n",
    "                budget -= 1\n",
    "                if budget % 1_000 == 0:\n",
    "                    print(f'{budget}: minimum gate count is {best_gate_cnt}')"
   ]
  }
 ],
 "metadata": {
  "interpreter": {
   "hash": "5cf248733d409ee2d3396b673fb667db69ceca2c5535c00dab670ead284bfb2d"
  },
  "kernelspec": {
   "display_name": "Python 3.8.11 64-bit ('quantum': conda)",
   "language": "python",
   "name": "python3"
  },
  "language_info": {
   "codemirror_mode": {
    "name": "ipython",
    "version": 3
   },
   "file_extension": ".py",
   "mimetype": "text/x-python",
   "name": "python",
   "nbconvert_exporter": "python",
   "pygments_lexer": "ipython3",
   "version": "3.8.11"
  },
  "orig_nbformat": 4
 },
 "nbformat": 4,
 "nbformat_minor": 2
}
